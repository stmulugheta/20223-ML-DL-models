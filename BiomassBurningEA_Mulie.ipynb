{
  "nbformat": 4,
  "nbformat_minor": 0,
  "metadata": {
    "colab": {
      "private_outputs": true,
      "provenance": [],
      "authorship_tag": "ABX9TyPdBDn4RbYvL2Bq501SjlrU",
      "include_colab_link": true
    },
    "kernelspec": {
      "name": "python3",
      "display_name": "Python 3"
    },
    "language_info": {
      "name": "python"
    }
  },
  "cells": [
    {
      "cell_type": "markdown",
      "metadata": {
        "id": "view-in-github",
        "colab_type": "text"
      },
      "source": [
        "<a href=\"https://colab.research.google.com/github/stmulugheta/20223-ML-DL-models/blob/master/BiomassBurningEA_Mulie.ipynb\" target=\"_parent\"><img src=\"https://colab.research.google.com/assets/colab-badge.svg\" alt=\"Open In Colab\"/></a>"
      ]
    },
    {
      "cell_type": "code",
      "execution_count": null,
      "metadata": {
        "id": "ylcRAcvWuYRx"
      },
      "outputs": [],
      "source": [
        "!pip install pandas\n",
        "!pip install numpy"
      ]
    },
    {
      "cell_type": "code",
      "source": [
        "import pandas as pd\n",
        "import matplotlib.pyplot as plt\n",
        "import seaborn as sns\n",
        "import numpy as np\n",
        "from plotnine import ggplot, aes\n",
        "import os"
      ],
      "metadata": {
        "id": "Gs9fHFVjx2Uo"
      },
      "execution_count": null,
      "outputs": []
    },
    {
      "cell_type": "markdown",
      "source": [
        "# New section"
      ],
      "metadata": {
        "id": "5c0c6GKpxUmv"
      }
    },
    {
      "cell_type": "code",
      "source": [
        "from google.colab import drive\n",
        "drive.mount('/content/drive')"
      ],
      "metadata": {
        "id": "trN_JqGBxZ_v"
      },
      "execution_count": null,
      "outputs": []
    },
    {
      "cell_type": "code",
      "source": [
        "df =pd.read_csv('/FCTables_13_22.csv')"
      ],
      "metadata": {
        "id": "9gjwMxflzKS7"
      },
      "execution_count": null,
      "outputs": []
    },
    {
      "cell_type": "code",
      "source": [
        "df"
      ],
      "metadata": {
        "id": "3NhlH1qRzYxe"
      },
      "execution_count": null,
      "outputs": []
    },
    {
      "cell_type": "code",
      "source": [
        "np.random.seed(1)\n",
        "data = np.round(np.random.normal(5, 2, 100))\n",
        "plt.hist(data, bins=10, range=(0,10), edgecolor='black');"
      ],
      "metadata": {
        "id": "I42IZzv00B43"
      },
      "execution_count": null,
      "outputs": []
    },
    {
      "cell_type": "code",
      "source": [
        "#df['Year'] = df.index.year\n",
        "#df['Month'] = df.index.month\n",
        "#df['Weekday'] = df.index.day_name()\n",
        "#df.to_csv('FC_2013_2022.csv')"
      ],
      "metadata": {
        "id": "hskOpGDM0KaT"
      },
      "execution_count": null,
      "outputs": []
    },
    {
      "cell_type": "code",
      "source": [
        "## Fire count 2013 to 2022¶"
      ],
      "metadata": {
        "id": "69_onciv0SkH"
      },
      "execution_count": null,
      "outputs": []
    },
    {
      "cell_type": "markdown",
      "source": [
        "## **Fire** count 2013 to 2022¶"
      ],
      "metadata": {
        "id": "ABtODm2S0Z_T"
      }
    },
    {
      "cell_type": "code",
      "source": [
        "df = pd.read_csv('/FCTables_13_22.csv', index_col=0, parse_dates=['ACQ_DATE'], low_memory=False)\n",
        "df.head()"
      ],
      "metadata": {
        "id": "8BH1NuHA0eeq"
      },
      "execution_count": null,
      "outputs": []
    },
    {
      "cell_type": "code",
      "source": [
        "df.rename(columns={'ADM0_NAME': 'Country'}, inplace=True)\n",
        "df.head(2)"
      ],
      "metadata": {
        "id": "pXBAIRGE04mR"
      },
      "execution_count": null,
      "outputs": []
    },
    {
      "cell_type": "code",
      "source": [
        "df.isnull().sum()"
      ],
      "metadata": {
        "id": "M9PztgGa08tI"
      },
      "execution_count": null,
      "outputs": []
    },
    {
      "cell_type": "code",
      "source": [
        "#df.TYPE.unique()"
      ],
      "metadata": {
        "id": "Ycglx6_11TJ3"
      },
      "execution_count": null,
      "outputs": []
    }
  ]
}