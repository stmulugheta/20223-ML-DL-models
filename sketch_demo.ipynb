{
  "nbformat": 4,
  "nbformat_minor": 0,
  "metadata": {
    "colab": {
      "provenance": [],
      "include_colab_link": true
    },
    "kernelspec": {
      "name": "python3",
      "display_name": "Python 3"
    },
    "language_info": {
      "name": "python"
    }
  },
  "cells": [
    {
      "cell_type": "markdown",
      "metadata": {
        "id": "view-in-github",
        "colab_type": "text"
      },
      "source": [
        "<a href=\"https://colab.research.google.com/github/stmulugheta/20223-ML-DL-models/blob/master/sketch_demo.ipynb\" target=\"_parent\"><img src=\"https://colab.research.google.com/assets/colab-badge.svg\" alt=\"Open In Colab\"/></a>"
      ]
    },
    {
      "cell_type": "code",
      "execution_count": 1,
      "metadata": {
        "id": "y0v8Wz2xo6P9",
        "outputId": "70875217-6f2d-451a-e8a9-8c31a7fd9144",
        "colab": {
          "base_uri": "https://localhost:8080/"
        }
      },
      "outputs": [
        {
          "output_type": "stream",
          "name": "stdout",
          "text": [
            "Looking in indexes: https://pypi.org/simple, https://us-python.pkg.dev/colab-wheels/public/simple/\n",
            "Collecting sketch\n",
            "  Downloading sketch-0.3.4-py3-none-any.whl (15 kB)\n",
            "Requirement already satisfied: ipython in /usr/local/lib/python3.8/dist-packages (from sketch) (7.9.0)\n",
            "Requirement already satisfied: pandas>=1.3.0 in /usr/local/lib/python3.8/dist-packages (from sketch) (1.3.5)\n",
            "Requirement already satisfied: packaging in /usr/local/lib/python3.8/dist-packages (from sketch) (21.3)\n",
            "Collecting datasketch>=1.5.8\n",
            "  Downloading datasketch-1.5.8-py2.py3-none-any.whl (76 kB)\n",
            "\u001b[2K     \u001b[90m━━━━━━━━━━━━━━━━━━━━━━━━━━━━━━━━━━━━━━━━\u001b[0m \u001b[32m76.7/76.7 KB\u001b[0m \u001b[31m3.5 MB/s\u001b[0m eta \u001b[36m0:00:00\u001b[0m\n",
            "\u001b[?25hCollecting lambdaprompt\n",
            "  Downloading lambdaprompt-0.3.5-py3-none-any.whl (11 kB)\n",
            "Collecting datasketches>=4.0.0\n",
            "  Downloading datasketches-4.0.1-cp38-cp38-manylinux_2_17_x86_64.manylinux2014_x86_64.whl (604 kB)\n",
            "\u001b[2K     \u001b[90m━━━━━━━━━━━━━━━━━━━━━━━━━━━━━━━━━━━━━━\u001b[0m \u001b[32m604.5/604.5 KB\u001b[0m \u001b[31m15.2 MB/s\u001b[0m eta \u001b[36m0:00:00\u001b[0m\n",
            "\u001b[?25hRequirement already satisfied: scipy>=1.0.0 in /usr/local/lib/python3.8/dist-packages (from datasketch>=1.5.8->sketch) (1.7.3)\n",
            "Requirement already satisfied: numpy>=1.11 in /usr/local/lib/python3.8/dist-packages (from datasketch>=1.5.8->sketch) (1.21.6)\n",
            "Requirement already satisfied: python-dateutil>=2.7.3 in /usr/local/lib/python3.8/dist-packages (from pandas>=1.3.0->sketch) (2.8.2)\n",
            "Requirement already satisfied: pytz>=2017.3 in /usr/local/lib/python3.8/dist-packages (from pandas>=1.3.0->sketch) (2022.7)\n",
            "Requirement already satisfied: traitlets>=4.2 in /usr/local/lib/python3.8/dist-packages (from ipython->sketch) (5.7.1)\n",
            "Collecting jedi>=0.10\n",
            "  Downloading jedi-0.18.2-py2.py3-none-any.whl (1.6 MB)\n",
            "\u001b[2K     \u001b[90m━━━━━━━━━━━━━━━━━━━━━━━━━━━━━━━━━━━━━━━━\u001b[0m \u001b[32m1.6/1.6 MB\u001b[0m \u001b[31m41.7 MB/s\u001b[0m eta \u001b[36m0:00:00\u001b[0m\n",
            "\u001b[?25hRequirement already satisfied: pickleshare in /usr/local/lib/python3.8/dist-packages (from ipython->sketch) (0.7.5)\n",
            "Requirement already satisfied: prompt-toolkit<2.1.0,>=2.0.0 in /usr/local/lib/python3.8/dist-packages (from ipython->sketch) (2.0.10)\n",
            "Requirement already satisfied: pexpect in /usr/local/lib/python3.8/dist-packages (from ipython->sketch) (4.8.0)\n",
            "Requirement already satisfied: decorator in /usr/local/lib/python3.8/dist-packages (from ipython->sketch) (4.4.2)\n",
            "Requirement already satisfied: setuptools>=18.5 in /usr/local/lib/python3.8/dist-packages (from ipython->sketch) (57.4.0)\n",
            "Requirement already satisfied: pygments in /usr/local/lib/python3.8/dist-packages (from ipython->sketch) (2.6.1)\n",
            "Requirement already satisfied: backcall in /usr/local/lib/python3.8/dist-packages (from ipython->sketch) (0.2.0)\n",
            "Requirement already satisfied: aiohttp in /usr/local/lib/python3.8/dist-packages (from lambdaprompt->sketch) (3.8.3)\n",
            "Collecting python-dotenv\n",
            "  Downloading python_dotenv-0.21.1-py3-none-any.whl (19 kB)\n",
            "Requirement already satisfied: jinja2 in /usr/local/lib/python3.8/dist-packages (from lambdaprompt->sketch) (2.11.3)\n",
            "Collecting nest-asyncio\n",
            "  Downloading nest_asyncio-1.5.6-py3-none-any.whl (5.2 kB)\n",
            "Requirement already satisfied: requests in /usr/local/lib/python3.8/dist-packages (from lambdaprompt->sketch) (2.25.1)\n",
            "Requirement already satisfied: pyparsing!=3.0.5,>=2.0.2 in /usr/local/lib/python3.8/dist-packages (from packaging->sketch) (3.0.9)\n",
            "Requirement already satisfied: parso<0.9.0,>=0.8.0 in /usr/local/lib/python3.8/dist-packages (from jedi>=0.10->ipython->sketch) (0.8.3)\n",
            "Requirement already satisfied: wcwidth in /usr/local/lib/python3.8/dist-packages (from prompt-toolkit<2.1.0,>=2.0.0->ipython->sketch) (0.2.5)\n",
            "Requirement already satisfied: six>=1.9.0 in /usr/local/lib/python3.8/dist-packages (from prompt-toolkit<2.1.0,>=2.0.0->ipython->sketch) (1.15.0)\n",
            "Requirement already satisfied: yarl<2.0,>=1.0 in /usr/local/lib/python3.8/dist-packages (from aiohttp->lambdaprompt->sketch) (1.8.2)\n",
            "Requirement already satisfied: multidict<7.0,>=4.5 in /usr/local/lib/python3.8/dist-packages (from aiohttp->lambdaprompt->sketch) (6.0.4)\n",
            "Requirement already satisfied: attrs>=17.3.0 in /usr/local/lib/python3.8/dist-packages (from aiohttp->lambdaprompt->sketch) (22.2.0)\n",
            "Requirement already satisfied: frozenlist>=1.1.1 in /usr/local/lib/python3.8/dist-packages (from aiohttp->lambdaprompt->sketch) (1.3.3)\n",
            "Requirement already satisfied: aiosignal>=1.1.2 in /usr/local/lib/python3.8/dist-packages (from aiohttp->lambdaprompt->sketch) (1.3.1)\n",
            "Requirement already satisfied: async-timeout<5.0,>=4.0.0a3 in /usr/local/lib/python3.8/dist-packages (from aiohttp->lambdaprompt->sketch) (4.0.2)\n",
            "Requirement already satisfied: charset-normalizer<3.0,>=2.0 in /usr/local/lib/python3.8/dist-packages (from aiohttp->lambdaprompt->sketch) (2.1.1)\n",
            "Requirement already satisfied: MarkupSafe>=0.23 in /usr/local/lib/python3.8/dist-packages (from jinja2->lambdaprompt->sketch) (2.0.1)\n",
            "Requirement already satisfied: ptyprocess>=0.5 in /usr/local/lib/python3.8/dist-packages (from pexpect->ipython->sketch) (0.7.0)\n",
            "Requirement already satisfied: chardet<5,>=3.0.2 in /usr/local/lib/python3.8/dist-packages (from requests->lambdaprompt->sketch) (4.0.0)\n",
            "Requirement already satisfied: urllib3<1.27,>=1.21.1 in /usr/local/lib/python3.8/dist-packages (from requests->lambdaprompt->sketch) (1.24.3)\n",
            "Requirement already satisfied: idna<3,>=2.5 in /usr/local/lib/python3.8/dist-packages (from requests->lambdaprompt->sketch) (2.10)\n",
            "Requirement already satisfied: certifi>=2017.4.17 in /usr/local/lib/python3.8/dist-packages (from requests->lambdaprompt->sketch) (2022.12.7)\n",
            "Installing collected packages: python-dotenv, nest-asyncio, jedi, datasketches, datasketch, lambdaprompt, sketch\n",
            "Successfully installed datasketch-1.5.8 datasketches-4.0.1 jedi-0.18.2 lambdaprompt-0.3.5 nest-asyncio-1.5.6 python-dotenv-0.21.1 sketch-0.3.4\n"
          ]
        }
      ],
      "source": [
        "! pip install sketch"
      ]
    },
    {
      "cell_type": "code",
      "source": [
        "import sketch\n",
        "import pandas as pd"
      ],
      "metadata": {
        "id": "2jE8G3_vo8ic"
      },
      "execution_count": 2,
      "outputs": []
    },
    {
      "cell_type": "code",
      "source": [
        "sales_data = pd.read_csv(\"https://gist.githubusercontent.com/bluecoconut/9ce2135aafb5c6ab2dc1d60ac595646e/raw/c93c3500a1f7fae469cba716f09358cfddea6343/sales_demo_with_pii_and_all_states.csv\")"
      ],
      "metadata": {
        "id": "LVblmEhepD8n"
      },
      "execution_count": 3,
      "outputs": []
    },
    {
      "cell_type": "code",
      "source": [
        "sales_data.sketch.ask(\"What columns might have PII information in them?\")"
      ],
      "metadata": {
        "colab": {
          "base_uri": "https://localhost:8080/",
          "height": 34
        },
        "id": "6Ka6k6zypH5O",
        "outputId": "84daa860-9e0e-4934-fcb9-77176c8f46c3"
      },
      "execution_count": 4,
      "outputs": [
        {
          "output_type": "display_data",
          "data": {
            "text/plain": [
              "<IPython.core.display.HTML object>"
            ],
            "text/html": [
              "\n",
              "The columns that might have PII information in them are Credit Card, SSN, and Purchase Address."
            ]
          },
          "metadata": {}
        }
      ]
    },
    {
      "cell_type": "code",
      "source": [
        "sales_data.sketch.ask(\"Can you give me friendly names for each column? (output as an HTML list)\")"
      ],
      "metadata": {
        "colab": {
          "base_uri": "https://localhost:8080/",
          "height": 185
        },
        "id": "0hrjE-q9pLbp",
        "outputId": "e1220f58-0ea4-4830-9ecb-391aed47c526"
      },
      "execution_count": 5,
      "outputs": [
        {
          "output_type": "display_data",
          "data": {
            "text/plain": [
              "<IPython.core.display.HTML object>"
            ],
            "text/html": [
              "\n",
              "<ul>\n",
              "  <li>Index: Index</li>\n",
              "  <li>Order ID: Order ID</li>\n",
              "  <li>Product: Product</li>\n",
              "  <li>Quantity Ordered: Quantity Ordered</li>\n",
              "  <li>Price Each: Price Each</li>\n",
              "  <li>Order Date: Order Date</li>\n",
              "  <li>Purchase Address: Purchase Address</li>\n",
              "  <li>Credit Card: Credit Card</li>\n",
              "  <li>SSN: SSN</li>\n",
              "</ul>\n"
            ]
          },
          "metadata": {}
        }
      ]
    },
    {
      "cell_type": "code",
      "source": [
        "sales_data.sketch.howto(\"Create some derived features from the address\")"
      ],
      "metadata": {
        "colab": {
          "base_uri": "https://localhost:8080/",
          "height": 156
        },
        "id": "SPZBkh6qpPgg",
        "outputId": "a524a642-9ad8-42d8-8c5b-c736e5c9f788"
      },
      "execution_count": 6,
      "outputs": [
        {
          "output_type": "display_data",
          "data": {
            "text/plain": [
              "<IPython.core.display.HTML object>"
            ],
            "text/html": [
              "<div style=\"display:flex;flex-direction:row;justify-content:space-between;\">\n",
              "                <pre style=\"width: 100%; white-space: pre-wrap;\" id=\"0f5ead1e-0352-4897-a4e4-b6fa577d040e\">\n",
              "# Create a new column for the city\n",
              "sales_data['City'] = sales_data['Purchase Address'].apply(lambda x: x.split(',')[1])\n",
              "\n",
              "# Create a new column for the state\n",
              "sales_data['State'] = sales_data['Purchase Address'].apply(lambda x: x.split(',')[2].split(' ')[1])\n",
              "\n",
              "# Create a new column for the zipcode\n",
              "sales_data['Zipcode'] = sales_data['Purchase Address'].apply(lambda x: x.split(',')[2].split(' ')[2])\n",
              "</pre>\n",
              "                <button style=\"height: fit-content;\" onclick=\"navigator.clipboard.writeText(JSON.parse(atob(`IlxuIyBDcmVhdGUgYSBuZXcgY29sdW1uIGZvciB0aGUgY2l0eVxuc2FsZXNfZGF0YVsnQ2l0eSddID0gc2FsZXNfZGF0YVsnUHVyY2hhc2UgQWRkcmVzcyddLmFwcGx5KGxhbWJkYSB4OiB4LnNwbGl0KCcsJylbMV0pXG5cbiMgQ3JlYXRlIGEgbmV3IGNvbHVtbiBmb3IgdGhlIHN0YXRlXG5zYWxlc19kYXRhWydTdGF0ZSddID0gc2FsZXNfZGF0YVsnUHVyY2hhc2UgQWRkcmVzcyddLmFwcGx5KGxhbWJkYSB4OiB4LnNwbGl0KCcsJylbMl0uc3BsaXQoJyAnKVsxXSlcblxuIyBDcmVhdGUgYSBuZXcgY29sdW1uIGZvciB0aGUgemlwY29kZVxuc2FsZXNfZGF0YVsnWmlwY29kZSddID0gc2FsZXNfZGF0YVsnUHVyY2hhc2UgQWRkcmVzcyddLmFwcGx5KGxhbWJkYSB4OiB4LnNwbGl0KCcsJylbMl0uc3BsaXQoJyAnKVsyXSlcbiI=`)))\">Copy</button>\n",
              "                </div>"
            ]
          },
          "metadata": {}
        }
      ]
    },
    {
      "cell_type": "code",
      "source": [
        "\n",
        "# Create a new column for the city\n",
        "sales_data['City'] = sales_data['Purchase Address'].apply(lambda x: x.split(',')[1])\n",
        "\n",
        "# Create a new column for the state\n",
        "sales_data['State'] = sales_data['Purchase Address'].apply(lambda x: x.split(',')[2].split(' ')[1])\n",
        "\n",
        "# Create a new column for the zipcode\n",
        "sales_data['Zipcode'] = sales_data['Purchase Address'].apply(lambda x: x.split(',')[2].split(' ')[2])\n"
      ],
      "metadata": {
        "id": "hK9S4lHWpZLl"
      },
      "execution_count": 7,
      "outputs": []
    },
    {
      "cell_type": "code",
      "source": [
        "sales_data.sketch.howto(\"Get the top 5 grossing states\")"
      ],
      "metadata": {
        "colab": {
          "base_uri": "https://localhost:8080/",
          "height": 242
        },
        "id": "RNKJjuWHph0v",
        "outputId": "8f534dfb-ef9b-45d1-b6f9-6cd4ccdbbe6d"
      },
      "execution_count": 8,
      "outputs": [
        {
          "output_type": "display_data",
          "data": {
            "text/plain": [
              "<IPython.core.display.HTML object>"
            ],
            "text/html": [
              "<div style=\"display:flex;flex-direction:row;justify-content:space-between;\">\n",
              "                <pre style=\"width: 100%; white-space: pre-wrap;\" id=\"64702ea6-567a-42d3-b77c-fc7cf2213e3f\">\n",
              "# Get the top 5 grossing states\n",
              "\n",
              "# Calculate total sales per state\n",
              "state_sales = sales_data.groupby('State')['Price Each'].sum().reset_index()\n",
              "\n",
              "# Sort the dataframe by total sales in descending order\n",
              "state_sales = state_sales.sort_values(by='Price Each', ascending=False)\n",
              "\n",
              "# Get the top 5 grossing states\n",
              "top_5_states = state_sales.head(5)\n",
              "\n",
              "# Print the results\n",
              "print(top_5_states)\n",
              "</pre>\n",
              "                <button style=\"height: fit-content;\" onclick=\"navigator.clipboard.writeText(JSON.parse(atob(`IlxuIyBHZXQgdGhlIHRvcCA1IGdyb3NzaW5nIHN0YXRlc1xuXG4jIENhbGN1bGF0ZSB0b3RhbCBzYWxlcyBwZXIgc3RhdGVcbnN0YXRlX3NhbGVzID0gc2FsZXNfZGF0YS5ncm91cGJ5KCdTdGF0ZScpWydQcmljZSBFYWNoJ10uc3VtKCkucmVzZXRfaW5kZXgoKVxuXG4jIFNvcnQgdGhlIGRhdGFmcmFtZSBieSB0b3RhbCBzYWxlcyBpbiBkZXNjZW5kaW5nIG9yZGVyXG5zdGF0ZV9zYWxlcyA9IHN0YXRlX3NhbGVzLnNvcnRfdmFsdWVzKGJ5PSdQcmljZSBFYWNoJywgYXNjZW5kaW5nPUZhbHNlKVxuXG4jIEdldCB0aGUgdG9wIDUgZ3Jvc3Npbmcgc3RhdGVzXG50b3BfNV9zdGF0ZXMgPSBzdGF0ZV9zYWxlcy5oZWFkKDUpXG5cbiMgUHJpbnQgdGhlIHJlc3VsdHNcbnByaW50KHRvcF81X3N0YXRlcylcbiI=`)))\">Copy</button>\n",
              "                </div>"
            ]
          },
          "metadata": {}
        }
      ]
    },
    {
      "cell_type": "code",
      "source": [
        "\n",
        "# Get the top 5 grossing states\n",
        "\n",
        "# Calculate total sales per state\n",
        "state_sales = sales_data.groupby('State')['Price Each'].sum().reset_index()\n",
        "\n",
        "# Sort the dataframe by total sales in descending order\n",
        "state_sales = state_sales.sort_values(by='Price Each', ascending=False)\n",
        "\n",
        "# Get the top 5 grossing states\n",
        "top_5_states = state_sales.head(5)\n",
        "\n",
        "# Print the results\n",
        "print(top_5_states)\n"
      ],
      "metadata": {
        "colab": {
          "base_uri": "https://localhost:8080/"
        },
        "id": "cOD1OG35pkLB",
        "outputId": "6a5b1421-c66a-4e6e-b3ad-e8f68d6c489e"
      },
      "execution_count": 9,
      "outputs": [
        {
          "output_type": "stream",
          "name": "stdout",
          "text": [
            "   State  Price Each\n",
            "4     CA  4222370.22\n",
            "42    TX  2940575.44\n",
            "8     FL  2166926.57\n",
            "33    NY  2070624.71\n",
            "13    IL  1413911.86\n"
          ]
        }
      ]
    },
    {
      "cell_type": "code",
      "source": [],
      "metadata": {
        "id": "6xZgjwWypy91"
      },
      "execution_count": 9,
      "outputs": []
    }
  ]
}