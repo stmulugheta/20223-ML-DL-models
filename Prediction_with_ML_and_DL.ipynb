{
  "nbformat": 4,
  "nbformat_minor": 0,
  "metadata": {
    "colab": {
      "provenance": [],
      "toc_visible": true,
      "authorship_tag": "ABX9TyPTAh+5kweB9Ad9Fcz+P7rP",
      "include_colab_link": true
    },
    "kernelspec": {
      "name": "python3",
      "display_name": "Python 3"
    },
    "language_info": {
      "name": "python"
    }
  },
  "cells": [
    {
      "cell_type": "markdown",
      "metadata": {
        "id": "view-in-github",
        "colab_type": "text"
      },
      "source": [
        "<a href=\"https://colab.research.google.com/github/stmulugheta/20223-ML-DL-models/blob/master/Prediction_with_ML_and_DL.ipynb\" target=\"_parent\"><img src=\"https://colab.research.google.com/assets/colab-badge.svg\" alt=\"Open In Colab\"/></a>"
      ]
    },
    {
      "cell_type": "markdown",
      "source": [
        "# Importing **Libraries** \n"
      ],
      "metadata": {
        "id": "y7bB59GSJhx3"
      }
    },
    {
      "cell_type": "code",
      "source": [
        "!pip install pandas"
      ],
      "metadata": {
        "colab": {
          "base_uri": "https://localhost:8080/"
        },
        "id": "ezD_d4KzNtU9",
        "outputId": "67696ffa-59ae-4f48-acf2-aeb38ae5ff23"
      },
      "execution_count": 118,
      "outputs": [
        {
          "output_type": "stream",
          "name": "stdout",
          "text": [
            "Looking in indexes: https://pypi.org/simple, https://us-python.pkg.dev/colab-wheels/public/simple/\n",
            "Requirement already satisfied: pandas in /usr/local/lib/python3.8/dist-packages (1.3.5)\n",
            "Requirement already satisfied: numpy>=1.17.3 in /usr/local/lib/python3.8/dist-packages (from pandas) (1.21.6)\n",
            "Requirement already satisfied: pytz>=2017.3 in /usr/local/lib/python3.8/dist-packages (from pandas) (2022.6)\n",
            "Requirement already satisfied: python-dateutil>=2.7.3 in /usr/local/lib/python3.8/dist-packages (from pandas) (2.8.2)\n",
            "Requirement already satisfied: six>=1.5 in /usr/local/lib/python3.8/dist-packages (from python-dateutil>=2.7.3->pandas) (1.15.0)\n"
          ]
        }
      ]
    },
    {
      "cell_type": "code",
      "source": [
        "import pandas as pd\n",
        "import numpy as np\n",
        "import seaborn as sns\n",
        "import matplotlib.pyplot as plt"
      ],
      "metadata": {
        "id": "yy0O3zAVJqwM"
      },
      "execution_count": 119,
      "outputs": []
    },
    {
      "cell_type": "markdown",
      "source": [
        "# Loading **dataset**"
      ],
      "metadata": {
        "id": "mWhLq39mJ6WY"
      }
    },
    {
      "cell_type": "code",
      "source": [
        "#!pip install matplotlib-venn"
      ],
      "metadata": {
        "id": "yc8N37YTOJze"
      },
      "execution_count": 120,
      "outputs": []
    },
    {
      "cell_type": "code",
      "source": [
        "#!apt-get -qq install -y libfluidsynth1"
      ],
      "metadata": {
        "id": "oIvS4Bi6OPkf"
      },
      "execution_count": 121,
      "outputs": []
    },
    {
      "cell_type": "code",
      "source": [
        "# https://pypi.python.org/pypi/libarchive\n",
        "#!apt-get -qq install -y libarchive-dev && pip install -U libarchive\n",
        "#import libarchive"
      ],
      "metadata": {
        "id": "y6KBe-ckOWT5"
      },
      "execution_count": 122,
      "outputs": []
    },
    {
      "cell_type": "code",
      "source": [
        "# https://pypi.python.org/pypi/pydot\n",
        "#!apt-get -qq install -y graphviz && pip install pydot\n",
        "#import pydot"
      ],
      "metadata": {
        "id": "mj5DIVEkOZxs"
      },
      "execution_count": 123,
      "outputs": []
    },
    {
      "cell_type": "code",
      "source": [
        "#!pip install cartopy\n",
        "#import cartopy"
      ],
      "metadata": {
        "id": "UmBWF2IJOdDC"
      },
      "execution_count": 124,
      "outputs": []
    },
    {
      "cell_type": "markdown",
      "source": [
        "# Dataset Preprocessing"
      ],
      "metadata": {
        "id": "eSftR0tFSWf9"
      }
    },
    {
      "cell_type": "code",
      "source": [
        "from google.colab import files\n",
        "uploaded = files.upload()"
      ],
      "metadata": {
        "colab": {
          "base_uri": "https://localhost:8080/",
          "height": 75
        },
        "id": "mJp0IaElPnqE",
        "outputId": "9533b5d5-0574-4f02-a60e-5b977b2cf3a6"
      },
      "execution_count": 125,
      "outputs": [
        {
          "output_type": "display_data",
          "data": {
            "text/plain": [
              "<IPython.core.display.HTML object>"
            ],
            "text/html": [
              "\n",
              "     <input type=\"file\" id=\"files-ff689a1a-6480-4d4f-879c-799203c28d0d\" name=\"files[]\" multiple disabled\n",
              "        style=\"border:none\" />\n",
              "     <output id=\"result-ff689a1a-6480-4d4f-879c-799203c28d0d\">\n",
              "      Upload widget is only available when the cell has been executed in the\n",
              "      current browser session. Please rerun this cell to enable.\n",
              "      </output>\n",
              "      <script>// Copyright 2017 Google LLC\n",
              "//\n",
              "// Licensed under the Apache License, Version 2.0 (the \"License\");\n",
              "// you may not use this file except in compliance with the License.\n",
              "// You may obtain a copy of the License at\n",
              "//\n",
              "//      http://www.apache.org/licenses/LICENSE-2.0\n",
              "//\n",
              "// Unless required by applicable law or agreed to in writing, software\n",
              "// distributed under the License is distributed on an \"AS IS\" BASIS,\n",
              "// WITHOUT WARRANTIES OR CONDITIONS OF ANY KIND, either express or implied.\n",
              "// See the License for the specific language governing permissions and\n",
              "// limitations under the License.\n",
              "\n",
              "/**\n",
              " * @fileoverview Helpers for google.colab Python module.\n",
              " */\n",
              "(function(scope) {\n",
              "function span(text, styleAttributes = {}) {\n",
              "  const element = document.createElement('span');\n",
              "  element.textContent = text;\n",
              "  for (const key of Object.keys(styleAttributes)) {\n",
              "    element.style[key] = styleAttributes[key];\n",
              "  }\n",
              "  return element;\n",
              "}\n",
              "\n",
              "// Max number of bytes which will be uploaded at a time.\n",
              "const MAX_PAYLOAD_SIZE = 100 * 1024;\n",
              "\n",
              "function _uploadFiles(inputId, outputId) {\n",
              "  const steps = uploadFilesStep(inputId, outputId);\n",
              "  const outputElement = document.getElementById(outputId);\n",
              "  // Cache steps on the outputElement to make it available for the next call\n",
              "  // to uploadFilesContinue from Python.\n",
              "  outputElement.steps = steps;\n",
              "\n",
              "  return _uploadFilesContinue(outputId);\n",
              "}\n",
              "\n",
              "// This is roughly an async generator (not supported in the browser yet),\n",
              "// where there are multiple asynchronous steps and the Python side is going\n",
              "// to poll for completion of each step.\n",
              "// This uses a Promise to block the python side on completion of each step,\n",
              "// then passes the result of the previous step as the input to the next step.\n",
              "function _uploadFilesContinue(outputId) {\n",
              "  const outputElement = document.getElementById(outputId);\n",
              "  const steps = outputElement.steps;\n",
              "\n",
              "  const next = steps.next(outputElement.lastPromiseValue);\n",
              "  return Promise.resolve(next.value.promise).then((value) => {\n",
              "    // Cache the last promise value to make it available to the next\n",
              "    // step of the generator.\n",
              "    outputElement.lastPromiseValue = value;\n",
              "    return next.value.response;\n",
              "  });\n",
              "}\n",
              "\n",
              "/**\n",
              " * Generator function which is called between each async step of the upload\n",
              " * process.\n",
              " * @param {string} inputId Element ID of the input file picker element.\n",
              " * @param {string} outputId Element ID of the output display.\n",
              " * @return {!Iterable<!Object>} Iterable of next steps.\n",
              " */\n",
              "function* uploadFilesStep(inputId, outputId) {\n",
              "  const inputElement = document.getElementById(inputId);\n",
              "  inputElement.disabled = false;\n",
              "\n",
              "  const outputElement = document.getElementById(outputId);\n",
              "  outputElement.innerHTML = '';\n",
              "\n",
              "  const pickedPromise = new Promise((resolve) => {\n",
              "    inputElement.addEventListener('change', (e) => {\n",
              "      resolve(e.target.files);\n",
              "    });\n",
              "  });\n",
              "\n",
              "  const cancel = document.createElement('button');\n",
              "  inputElement.parentElement.appendChild(cancel);\n",
              "  cancel.textContent = 'Cancel upload';\n",
              "  const cancelPromise = new Promise((resolve) => {\n",
              "    cancel.onclick = () => {\n",
              "      resolve(null);\n",
              "    };\n",
              "  });\n",
              "\n",
              "  // Wait for the user to pick the files.\n",
              "  const files = yield {\n",
              "    promise: Promise.race([pickedPromise, cancelPromise]),\n",
              "    response: {\n",
              "      action: 'starting',\n",
              "    }\n",
              "  };\n",
              "\n",
              "  cancel.remove();\n",
              "\n",
              "  // Disable the input element since further picks are not allowed.\n",
              "  inputElement.disabled = true;\n",
              "\n",
              "  if (!files) {\n",
              "    return {\n",
              "      response: {\n",
              "        action: 'complete',\n",
              "      }\n",
              "    };\n",
              "  }\n",
              "\n",
              "  for (const file of files) {\n",
              "    const li = document.createElement('li');\n",
              "    li.append(span(file.name, {fontWeight: 'bold'}));\n",
              "    li.append(span(\n",
              "        `(${file.type || 'n/a'}) - ${file.size} bytes, ` +\n",
              "        `last modified: ${\n",
              "            file.lastModifiedDate ? file.lastModifiedDate.toLocaleDateString() :\n",
              "                                    'n/a'} - `));\n",
              "    const percent = span('0% done');\n",
              "    li.appendChild(percent);\n",
              "\n",
              "    outputElement.appendChild(li);\n",
              "\n",
              "    const fileDataPromise = new Promise((resolve) => {\n",
              "      const reader = new FileReader();\n",
              "      reader.onload = (e) => {\n",
              "        resolve(e.target.result);\n",
              "      };\n",
              "      reader.readAsArrayBuffer(file);\n",
              "    });\n",
              "    // Wait for the data to be ready.\n",
              "    let fileData = yield {\n",
              "      promise: fileDataPromise,\n",
              "      response: {\n",
              "        action: 'continue',\n",
              "      }\n",
              "    };\n",
              "\n",
              "    // Use a chunked sending to avoid message size limits. See b/62115660.\n",
              "    let position = 0;\n",
              "    do {\n",
              "      const length = Math.min(fileData.byteLength - position, MAX_PAYLOAD_SIZE);\n",
              "      const chunk = new Uint8Array(fileData, position, length);\n",
              "      position += length;\n",
              "\n",
              "      const base64 = btoa(String.fromCharCode.apply(null, chunk));\n",
              "      yield {\n",
              "        response: {\n",
              "          action: 'append',\n",
              "          file: file.name,\n",
              "          data: base64,\n",
              "        },\n",
              "      };\n",
              "\n",
              "      let percentDone = fileData.byteLength === 0 ?\n",
              "          100 :\n",
              "          Math.round((position / fileData.byteLength) * 100);\n",
              "      percent.textContent = `${percentDone}% done`;\n",
              "\n",
              "    } while (position < fileData.byteLength);\n",
              "  }\n",
              "\n",
              "  // All done.\n",
              "  yield {\n",
              "    response: {\n",
              "      action: 'complete',\n",
              "    }\n",
              "  };\n",
              "}\n",
              "\n",
              "scope.google = scope.google || {};\n",
              "scope.google.colab = scope.google.colab || {};\n",
              "scope.google.colab._files = {\n",
              "  _uploadFiles,\n",
              "  _uploadFilesContinue,\n",
              "};\n",
              "})(self);\n",
              "</script> "
            ]
          },
          "metadata": {}
        },
        {
          "output_type": "stream",
          "name": "stdout",
          "text": [
            "Saving CSA-Data.csv to CSA-Data (2).csv\n"
          ]
        }
      ]
    },
    {
      "cell_type": "code",
      "source": [
        "df=pd.read_csv('CSA-Data.csv')\n",
        "df.head(10)"
      ],
      "metadata": {
        "colab": {
          "base_uri": "https://localhost:8080/",
          "height": 511
        },
        "id": "ZSchAjg1Rnyy",
        "outputId": "c6b50589-7ac7-4c48-cfcd-ab663bdf5fd0"
      },
      "execution_count": 126,
      "outputs": [
        {
          "output_type": "execute_result",
          "data": {
            "text/plain": [
              "  \"Children are safe among family members such as grandparents, uncles, aunts, cousins\"  \\\n",
              "0                                              Agree                                      \n",
              "1                                              Agree                                      \n",
              "2                                           Disagree                                      \n",
              "3                                              Agree                                      \n",
              "4                                              Agree                                      \n",
              "5                                              Agree                                      \n",
              "6                                           Disagree                                      \n",
              "7                                           Disagree                                      \n",
              "8                                           Disagree                                      \n",
              "9                                              Agree                                      \n",
              "\n",
              "  \"Children are mainly abused by strangers in our society\"  \\\n",
              "0                                              Agree         \n",
              "1                                              Agree         \n",
              "2                                           Disagree         \n",
              "3                                              Agree         \n",
              "4                                           Disagree         \n",
              "5                                           Disagree         \n",
              "6                                           Disagree         \n",
              "7                                           Disagree         \n",
              "8                                           Disagree         \n",
              "9                                           Disagree         \n",
              "\n",
              "  Male children dont need sexual abuse prevention knowledge  \\\n",
              "0                                           Disagree          \n",
              "1                                           Disagree          \n",
              "2                                           Disagree          \n",
              "3                                           Disagree          \n",
              "4                                           Disagree          \n",
              "5                                              Agree          \n",
              "6                                              Agree          \n",
              "7                                           Disagree          \n",
              "8                                           Disagree          \n",
              "9                                              Agree          \n",
              "\n",
              "  \"Teaching sexual abuse prevention in school is not necessary. It will make children curious about sex\"  \\\n",
              "0                                              Agree                                                       \n",
              "1                                           Disagree                                                       \n",
              "2                                           Disagree                                                       \n",
              "3                                           Disagree                                                       \n",
              "4                                           Disagree                                                       \n",
              "5                                              Agree                                                       \n",
              "6                                              Agree                                                       \n",
              "7                                           Disagree                                                       \n",
              "8                                           Disagree                                                       \n",
              "9                                              Agree                                                       \n",
              "\n",
              "  Do you know what child grooming is?  \\\n",
              "0                                  No   \n",
              "1                                  No   \n",
              "2                                  No   \n",
              "3                                  No   \n",
              "4                                 Yes   \n",
              "5                                 Yes   \n",
              "6                                 Yes   \n",
              "7                                 Yes   \n",
              "8                                 Yes   \n",
              "9                                 Yes   \n",
              "\n",
              "  Do you know what signs to look for to identify if your child has been abused?  \\\n",
              "0                                                 No                              \n",
              "1                                                 No                              \n",
              "2                                                 No                              \n",
              "3                                                 No                              \n",
              "4                                                Yes                              \n",
              "5                                                Yes                              \n",
              "6                                                 No                              \n",
              "7                                                Yes                              \n",
              "8                                                Yes                              \n",
              "9                                                Yes                              \n",
              "\n",
              "  Do you think children need post abuse counseling for recovering?  \\\n",
              "0                                                 No                 \n",
              "1                                                Yes                 \n",
              "2                                                Yes                 \n",
              "3                                                Yes                 \n",
              "4                                                Yes                 \n",
              "5                                                Yes                 \n",
              "6                                                Yes                 \n",
              "7                                                Yes                 \n",
              "8                                                 No                 \n",
              "9                                                Yes                 \n",
              "\n",
              "  Do you think you should take legal action against the abuser of your child?  \\\n",
              "0                                                Yes                            \n",
              "1                                                Yes                            \n",
              "2                                                Yes                            \n",
              "3                                                Yes                            \n",
              "4                                                Yes                            \n",
              "5                                                 No                            \n",
              "6                                                Yes                            \n",
              "7                                                 No                            \n",
              "8                                                Yes                            \n",
              "9                                                Yes                            \n",
              "\n",
              "  Knowledge Level  \n",
              "0        Beginner  \n",
              "1        Beginner  \n",
              "2        Beginner  \n",
              "3        Beginner  \n",
              "4    Intermediate  \n",
              "5    Intermediate  \n",
              "6    Intermediate  \n",
              "7    Intermediate  \n",
              "8    Intermediate  \n",
              "9    Intermediate  "
            ],
            "text/html": [
              "\n",
              "  <div id=\"df-9b629eb6-b5ef-4421-82f0-8c4da880c858\">\n",
              "    <div class=\"colab-df-container\">\n",
              "      <div>\n",
              "<style scoped>\n",
              "    .dataframe tbody tr th:only-of-type {\n",
              "        vertical-align: middle;\n",
              "    }\n",
              "\n",
              "    .dataframe tbody tr th {\n",
              "        vertical-align: top;\n",
              "    }\n",
              "\n",
              "    .dataframe thead th {\n",
              "        text-align: right;\n",
              "    }\n",
              "</style>\n",
              "<table border=\"1\" class=\"dataframe\">\n",
              "  <thead>\n",
              "    <tr style=\"text-align: right;\">\n",
              "      <th></th>\n",
              "      <th>\"Children are safe among family members such as grandparents, uncles, aunts, cousins\"</th>\n",
              "      <th>\"Children are mainly abused by strangers in our society\"</th>\n",
              "      <th>Male children dont need sexual abuse prevention knowledge</th>\n",
              "      <th>\"Teaching sexual abuse prevention in school is not necessary. It will make children curious about sex\"</th>\n",
              "      <th>Do you know what child grooming is?</th>\n",
              "      <th>Do you know what signs to look for to identify if your child has been abused?</th>\n",
              "      <th>Do you think children need post abuse counseling for recovering?</th>\n",
              "      <th>Do you think you should take legal action against the abuser of your child?</th>\n",
              "      <th>Knowledge Level</th>\n",
              "    </tr>\n",
              "  </thead>\n",
              "  <tbody>\n",
              "    <tr>\n",
              "      <th>0</th>\n",
              "      <td>Agree</td>\n",
              "      <td>Agree</td>\n",
              "      <td>Disagree</td>\n",
              "      <td>Agree</td>\n",
              "      <td>No</td>\n",
              "      <td>No</td>\n",
              "      <td>No</td>\n",
              "      <td>Yes</td>\n",
              "      <td>Beginner</td>\n",
              "    </tr>\n",
              "    <tr>\n",
              "      <th>1</th>\n",
              "      <td>Agree</td>\n",
              "      <td>Agree</td>\n",
              "      <td>Disagree</td>\n",
              "      <td>Disagree</td>\n",
              "      <td>No</td>\n",
              "      <td>No</td>\n",
              "      <td>Yes</td>\n",
              "      <td>Yes</td>\n",
              "      <td>Beginner</td>\n",
              "    </tr>\n",
              "    <tr>\n",
              "      <th>2</th>\n",
              "      <td>Disagree</td>\n",
              "      <td>Disagree</td>\n",
              "      <td>Disagree</td>\n",
              "      <td>Disagree</td>\n",
              "      <td>No</td>\n",
              "      <td>No</td>\n",
              "      <td>Yes</td>\n",
              "      <td>Yes</td>\n",
              "      <td>Beginner</td>\n",
              "    </tr>\n",
              "    <tr>\n",
              "      <th>3</th>\n",
              "      <td>Agree</td>\n",
              "      <td>Agree</td>\n",
              "      <td>Disagree</td>\n",
              "      <td>Disagree</td>\n",
              "      <td>No</td>\n",
              "      <td>No</td>\n",
              "      <td>Yes</td>\n",
              "      <td>Yes</td>\n",
              "      <td>Beginner</td>\n",
              "    </tr>\n",
              "    <tr>\n",
              "      <th>4</th>\n",
              "      <td>Agree</td>\n",
              "      <td>Disagree</td>\n",
              "      <td>Disagree</td>\n",
              "      <td>Disagree</td>\n",
              "      <td>Yes</td>\n",
              "      <td>Yes</td>\n",
              "      <td>Yes</td>\n",
              "      <td>Yes</td>\n",
              "      <td>Intermediate</td>\n",
              "    </tr>\n",
              "    <tr>\n",
              "      <th>5</th>\n",
              "      <td>Agree</td>\n",
              "      <td>Disagree</td>\n",
              "      <td>Agree</td>\n",
              "      <td>Agree</td>\n",
              "      <td>Yes</td>\n",
              "      <td>Yes</td>\n",
              "      <td>Yes</td>\n",
              "      <td>No</td>\n",
              "      <td>Intermediate</td>\n",
              "    </tr>\n",
              "    <tr>\n",
              "      <th>6</th>\n",
              "      <td>Disagree</td>\n",
              "      <td>Disagree</td>\n",
              "      <td>Agree</td>\n",
              "      <td>Agree</td>\n",
              "      <td>Yes</td>\n",
              "      <td>No</td>\n",
              "      <td>Yes</td>\n",
              "      <td>Yes</td>\n",
              "      <td>Intermediate</td>\n",
              "    </tr>\n",
              "    <tr>\n",
              "      <th>7</th>\n",
              "      <td>Disagree</td>\n",
              "      <td>Disagree</td>\n",
              "      <td>Disagree</td>\n",
              "      <td>Disagree</td>\n",
              "      <td>Yes</td>\n",
              "      <td>Yes</td>\n",
              "      <td>Yes</td>\n",
              "      <td>No</td>\n",
              "      <td>Intermediate</td>\n",
              "    </tr>\n",
              "    <tr>\n",
              "      <th>8</th>\n",
              "      <td>Disagree</td>\n",
              "      <td>Disagree</td>\n",
              "      <td>Disagree</td>\n",
              "      <td>Disagree</td>\n",
              "      <td>Yes</td>\n",
              "      <td>Yes</td>\n",
              "      <td>No</td>\n",
              "      <td>Yes</td>\n",
              "      <td>Intermediate</td>\n",
              "    </tr>\n",
              "    <tr>\n",
              "      <th>9</th>\n",
              "      <td>Agree</td>\n",
              "      <td>Disagree</td>\n",
              "      <td>Agree</td>\n",
              "      <td>Agree</td>\n",
              "      <td>Yes</td>\n",
              "      <td>Yes</td>\n",
              "      <td>Yes</td>\n",
              "      <td>Yes</td>\n",
              "      <td>Intermediate</td>\n",
              "    </tr>\n",
              "  </tbody>\n",
              "</table>\n",
              "</div>\n",
              "      <button class=\"colab-df-convert\" onclick=\"convertToInteractive('df-9b629eb6-b5ef-4421-82f0-8c4da880c858')\"\n",
              "              title=\"Convert this dataframe to an interactive table.\"\n",
              "              style=\"display:none;\">\n",
              "        \n",
              "  <svg xmlns=\"http://www.w3.org/2000/svg\" height=\"24px\"viewBox=\"0 0 24 24\"\n",
              "       width=\"24px\">\n",
              "    <path d=\"M0 0h24v24H0V0z\" fill=\"none\"/>\n",
              "    <path d=\"M18.56 5.44l.94 2.06.94-2.06 2.06-.94-2.06-.94-.94-2.06-.94 2.06-2.06.94zm-11 1L8.5 8.5l.94-2.06 2.06-.94-2.06-.94L8.5 2.5l-.94 2.06-2.06.94zm10 10l.94 2.06.94-2.06 2.06-.94-2.06-.94-.94-2.06-.94 2.06-2.06.94z\"/><path d=\"M17.41 7.96l-1.37-1.37c-.4-.4-.92-.59-1.43-.59-.52 0-1.04.2-1.43.59L10.3 9.45l-7.72 7.72c-.78.78-.78 2.05 0 2.83L4 21.41c.39.39.9.59 1.41.59.51 0 1.02-.2 1.41-.59l7.78-7.78 2.81-2.81c.8-.78.8-2.07 0-2.86zM5.41 20L4 18.59l7.72-7.72 1.47 1.35L5.41 20z\"/>\n",
              "  </svg>\n",
              "      </button>\n",
              "      \n",
              "  <style>\n",
              "    .colab-df-container {\n",
              "      display:flex;\n",
              "      flex-wrap:wrap;\n",
              "      gap: 12px;\n",
              "    }\n",
              "\n",
              "    .colab-df-convert {\n",
              "      background-color: #E8F0FE;\n",
              "      border: none;\n",
              "      border-radius: 50%;\n",
              "      cursor: pointer;\n",
              "      display: none;\n",
              "      fill: #1967D2;\n",
              "      height: 32px;\n",
              "      padding: 0 0 0 0;\n",
              "      width: 32px;\n",
              "    }\n",
              "\n",
              "    .colab-df-convert:hover {\n",
              "      background-color: #E2EBFA;\n",
              "      box-shadow: 0px 1px 2px rgba(60, 64, 67, 0.3), 0px 1px 3px 1px rgba(60, 64, 67, 0.15);\n",
              "      fill: #174EA6;\n",
              "    }\n",
              "\n",
              "    [theme=dark] .colab-df-convert {\n",
              "      background-color: #3B4455;\n",
              "      fill: #D2E3FC;\n",
              "    }\n",
              "\n",
              "    [theme=dark] .colab-df-convert:hover {\n",
              "      background-color: #434B5C;\n",
              "      box-shadow: 0px 1px 3px 1px rgba(0, 0, 0, 0.15);\n",
              "      filter: drop-shadow(0px 1px 2px rgba(0, 0, 0, 0.3));\n",
              "      fill: #FFFFFF;\n",
              "    }\n",
              "  </style>\n",
              "\n",
              "      <script>\n",
              "        const buttonEl =\n",
              "          document.querySelector('#df-9b629eb6-b5ef-4421-82f0-8c4da880c858 button.colab-df-convert');\n",
              "        buttonEl.style.display =\n",
              "          google.colab.kernel.accessAllowed ? 'block' : 'none';\n",
              "\n",
              "        async function convertToInteractive(key) {\n",
              "          const element = document.querySelector('#df-9b629eb6-b5ef-4421-82f0-8c4da880c858');\n",
              "          const dataTable =\n",
              "            await google.colab.kernel.invokeFunction('convertToInteractive',\n",
              "                                                     [key], {});\n",
              "          if (!dataTable) return;\n",
              "\n",
              "          const docLinkHtml = 'Like what you see? Visit the ' +\n",
              "            '<a target=\"_blank\" href=https://colab.research.google.com/notebooks/data_table.ipynb>data table notebook</a>'\n",
              "            + ' to learn more about interactive tables.';\n",
              "          element.innerHTML = '';\n",
              "          dataTable['output_type'] = 'display_data';\n",
              "          await google.colab.output.renderOutput(dataTable, element);\n",
              "          const docLink = document.createElement('div');\n",
              "          docLink.innerHTML = docLinkHtml;\n",
              "          element.appendChild(docLink);\n",
              "        }\n",
              "      </script>\n",
              "    </div>\n",
              "  </div>\n",
              "  "
            ]
          },
          "metadata": {},
          "execution_count": 126
        }
      ]
    },
    {
      "cell_type": "code",
      "source": [
        "df.tail(10)"
      ],
      "metadata": {
        "colab": {
          "base_uri": "https://localhost:8080/",
          "height": 511
        },
        "id": "U_sx4JyGR25f",
        "outputId": "b5e527e1-2fd3-4e1f-fec6-400a0de7afc0"
      },
      "execution_count": 127,
      "outputs": [
        {
          "output_type": "execute_result",
          "data": {
            "text/plain": [
              "     \"Children are safe among family members such as grandparents, uncles, aunts, cousins\"  \\\n",
              "2992                                           Disagree                                      \n",
              "2993                                           Disagree                                      \n",
              "2994                                           Disagree                                      \n",
              "2995                                           Disagree                                      \n",
              "2996                                           Disagree                                      \n",
              "2997                                              Agree                                      \n",
              "2998                                              Agree                                      \n",
              "2999                                              Agree                                      \n",
              "3000                                           Disagree                                      \n",
              "3001                                           Disagree                                      \n",
              "\n",
              "     \"Children are mainly abused by strangers in our society\"  \\\n",
              "2992                                           Disagree         \n",
              "2993                                           Disagree         \n",
              "2994                                              Agree         \n",
              "2995                                           Disagree         \n",
              "2996                                           Disagree         \n",
              "2997                                              Agree         \n",
              "2998                                              Agree         \n",
              "2999                                              Agree         \n",
              "3000                                              Agree         \n",
              "3001                                           Disagree         \n",
              "\n",
              "     Male children dont need sexual abuse prevention knowledge  \\\n",
              "2992                                           Disagree          \n",
              "2993                                           Disagree          \n",
              "2994                                           Disagree          \n",
              "2995                                           Disagree          \n",
              "2996                                              Agree          \n",
              "2997                                           Disagree          \n",
              "2998                                           Disagree          \n",
              "2999                                              Agree          \n",
              "3000                                              Agree          \n",
              "3001                                              Agree          \n",
              "\n",
              "     \"Teaching sexual abuse prevention in school is not necessary. It will make children curious about sex\"  \\\n",
              "2992                                           Disagree                                                       \n",
              "2993                                              Agree                                                       \n",
              "2994                                           Disagree                                                       \n",
              "2995                                              Agree                                                       \n",
              "2996                                           Disagree                                                       \n",
              "2997                                           Disagree                                                       \n",
              "2998                                           Disagree                                                       \n",
              "2999                                              Agree                                                       \n",
              "3000                                              Agree                                                       \n",
              "3001                                           Disagree                                                       \n",
              "\n",
              "     Do you know what child grooming is?  \\\n",
              "2992                                  No   \n",
              "2993                                 Yes   \n",
              "2994                                 Yes   \n",
              "2995                                 Yes   \n",
              "2996                                  No   \n",
              "2997                                  No   \n",
              "2998                                  No   \n",
              "2999                                  No   \n",
              "3000                                 Yes   \n",
              "3001                                  No   \n",
              "\n",
              "     Do you know what signs to look for to identify if your child has been abused?  \\\n",
              "2992                                                 No                              \n",
              "2993                                                 No                              \n",
              "2994                                                 No                              \n",
              "2995                                                 No                              \n",
              "2996                                                Yes                              \n",
              "2997                                                 No                              \n",
              "2998                                                Yes                              \n",
              "2999                                                 No                              \n",
              "3000                                                Yes                              \n",
              "3001                                                 No                              \n",
              "\n",
              "     Do you think children need post abuse counseling for recovering?  \\\n",
              "2992                                                Yes                 \n",
              "2993                                                 No                 \n",
              "2994                                                Yes                 \n",
              "2995                                                 No                 \n",
              "2996                                                 No                 \n",
              "2997                                                Yes                 \n",
              "2998                                                Yes                 \n",
              "2999                                                 No                 \n",
              "3000                                                Yes                 \n",
              "3001                                                Yes                 \n",
              "\n",
              "     Do you think you should take legal action against the abuser of your child?  \\\n",
              "2992                                                Yes                            \n",
              "2993                                                Yes                            \n",
              "2994                                                Yes                            \n",
              "2995                                                 No                            \n",
              "2996                                                Yes                            \n",
              "2997                                                Yes                            \n",
              "2998                                                 No                            \n",
              "2999                                                 No                            \n",
              "3000                                                Yes                            \n",
              "3001                                                 No                            \n",
              "\n",
              "     Knowledge Level  \n",
              "2992    Intermediate  \n",
              "2993    Intermediate  \n",
              "2994    Intermediate  \n",
              "2995    Intermediate  \n",
              "2996    Intermediate  \n",
              "2997    Intermediate  \n",
              "2998        Beginner  \n",
              "2999        Beginner  \n",
              "3000        Beginner  \n",
              "3001        Beginner  "
            ],
            "text/html": [
              "\n",
              "  <div id=\"df-60ea5198-3858-4beb-8c36-a722070e5782\">\n",
              "    <div class=\"colab-df-container\">\n",
              "      <div>\n",
              "<style scoped>\n",
              "    .dataframe tbody tr th:only-of-type {\n",
              "        vertical-align: middle;\n",
              "    }\n",
              "\n",
              "    .dataframe tbody tr th {\n",
              "        vertical-align: top;\n",
              "    }\n",
              "\n",
              "    .dataframe thead th {\n",
              "        text-align: right;\n",
              "    }\n",
              "</style>\n",
              "<table border=\"1\" class=\"dataframe\">\n",
              "  <thead>\n",
              "    <tr style=\"text-align: right;\">\n",
              "      <th></th>\n",
              "      <th>\"Children are safe among family members such as grandparents, uncles, aunts, cousins\"</th>\n",
              "      <th>\"Children are mainly abused by strangers in our society\"</th>\n",
              "      <th>Male children dont need sexual abuse prevention knowledge</th>\n",
              "      <th>\"Teaching sexual abuse prevention in school is not necessary. It will make children curious about sex\"</th>\n",
              "      <th>Do you know what child grooming is?</th>\n",
              "      <th>Do you know what signs to look for to identify if your child has been abused?</th>\n",
              "      <th>Do you think children need post abuse counseling for recovering?</th>\n",
              "      <th>Do you think you should take legal action against the abuser of your child?</th>\n",
              "      <th>Knowledge Level</th>\n",
              "    </tr>\n",
              "  </thead>\n",
              "  <tbody>\n",
              "    <tr>\n",
              "      <th>2992</th>\n",
              "      <td>Disagree</td>\n",
              "      <td>Disagree</td>\n",
              "      <td>Disagree</td>\n",
              "      <td>Disagree</td>\n",
              "      <td>No</td>\n",
              "      <td>No</td>\n",
              "      <td>Yes</td>\n",
              "      <td>Yes</td>\n",
              "      <td>Intermediate</td>\n",
              "    </tr>\n",
              "    <tr>\n",
              "      <th>2993</th>\n",
              "      <td>Disagree</td>\n",
              "      <td>Disagree</td>\n",
              "      <td>Disagree</td>\n",
              "      <td>Agree</td>\n",
              "      <td>Yes</td>\n",
              "      <td>No</td>\n",
              "      <td>No</td>\n",
              "      <td>Yes</td>\n",
              "      <td>Intermediate</td>\n",
              "    </tr>\n",
              "    <tr>\n",
              "      <th>2994</th>\n",
              "      <td>Disagree</td>\n",
              "      <td>Agree</td>\n",
              "      <td>Disagree</td>\n",
              "      <td>Disagree</td>\n",
              "      <td>Yes</td>\n",
              "      <td>No</td>\n",
              "      <td>Yes</td>\n",
              "      <td>Yes</td>\n",
              "      <td>Intermediate</td>\n",
              "    </tr>\n",
              "    <tr>\n",
              "      <th>2995</th>\n",
              "      <td>Disagree</td>\n",
              "      <td>Disagree</td>\n",
              "      <td>Disagree</td>\n",
              "      <td>Agree</td>\n",
              "      <td>Yes</td>\n",
              "      <td>No</td>\n",
              "      <td>No</td>\n",
              "      <td>No</td>\n",
              "      <td>Intermediate</td>\n",
              "    </tr>\n",
              "    <tr>\n",
              "      <th>2996</th>\n",
              "      <td>Disagree</td>\n",
              "      <td>Disagree</td>\n",
              "      <td>Agree</td>\n",
              "      <td>Disagree</td>\n",
              "      <td>No</td>\n",
              "      <td>Yes</td>\n",
              "      <td>No</td>\n",
              "      <td>Yes</td>\n",
              "      <td>Intermediate</td>\n",
              "    </tr>\n",
              "    <tr>\n",
              "      <th>2997</th>\n",
              "      <td>Agree</td>\n",
              "      <td>Agree</td>\n",
              "      <td>Disagree</td>\n",
              "      <td>Disagree</td>\n",
              "      <td>No</td>\n",
              "      <td>No</td>\n",
              "      <td>Yes</td>\n",
              "      <td>Yes</td>\n",
              "      <td>Intermediate</td>\n",
              "    </tr>\n",
              "    <tr>\n",
              "      <th>2998</th>\n",
              "      <td>Agree</td>\n",
              "      <td>Agree</td>\n",
              "      <td>Disagree</td>\n",
              "      <td>Disagree</td>\n",
              "      <td>No</td>\n",
              "      <td>Yes</td>\n",
              "      <td>Yes</td>\n",
              "      <td>No</td>\n",
              "      <td>Beginner</td>\n",
              "    </tr>\n",
              "    <tr>\n",
              "      <th>2999</th>\n",
              "      <td>Agree</td>\n",
              "      <td>Agree</td>\n",
              "      <td>Agree</td>\n",
              "      <td>Agree</td>\n",
              "      <td>No</td>\n",
              "      <td>No</td>\n",
              "      <td>No</td>\n",
              "      <td>No</td>\n",
              "      <td>Beginner</td>\n",
              "    </tr>\n",
              "    <tr>\n",
              "      <th>3000</th>\n",
              "      <td>Disagree</td>\n",
              "      <td>Agree</td>\n",
              "      <td>Agree</td>\n",
              "      <td>Agree</td>\n",
              "      <td>Yes</td>\n",
              "      <td>Yes</td>\n",
              "      <td>Yes</td>\n",
              "      <td>Yes</td>\n",
              "      <td>Beginner</td>\n",
              "    </tr>\n",
              "    <tr>\n",
              "      <th>3001</th>\n",
              "      <td>Disagree</td>\n",
              "      <td>Disagree</td>\n",
              "      <td>Agree</td>\n",
              "      <td>Disagree</td>\n",
              "      <td>No</td>\n",
              "      <td>No</td>\n",
              "      <td>Yes</td>\n",
              "      <td>No</td>\n",
              "      <td>Beginner</td>\n",
              "    </tr>\n",
              "  </tbody>\n",
              "</table>\n",
              "</div>\n",
              "      <button class=\"colab-df-convert\" onclick=\"convertToInteractive('df-60ea5198-3858-4beb-8c36-a722070e5782')\"\n",
              "              title=\"Convert this dataframe to an interactive table.\"\n",
              "              style=\"display:none;\">\n",
              "        \n",
              "  <svg xmlns=\"http://www.w3.org/2000/svg\" height=\"24px\"viewBox=\"0 0 24 24\"\n",
              "       width=\"24px\">\n",
              "    <path d=\"M0 0h24v24H0V0z\" fill=\"none\"/>\n",
              "    <path d=\"M18.56 5.44l.94 2.06.94-2.06 2.06-.94-2.06-.94-.94-2.06-.94 2.06-2.06.94zm-11 1L8.5 8.5l.94-2.06 2.06-.94-2.06-.94L8.5 2.5l-.94 2.06-2.06.94zm10 10l.94 2.06.94-2.06 2.06-.94-2.06-.94-.94-2.06-.94 2.06-2.06.94z\"/><path d=\"M17.41 7.96l-1.37-1.37c-.4-.4-.92-.59-1.43-.59-.52 0-1.04.2-1.43.59L10.3 9.45l-7.72 7.72c-.78.78-.78 2.05 0 2.83L4 21.41c.39.39.9.59 1.41.59.51 0 1.02-.2 1.41-.59l7.78-7.78 2.81-2.81c.8-.78.8-2.07 0-2.86zM5.41 20L4 18.59l7.72-7.72 1.47 1.35L5.41 20z\"/>\n",
              "  </svg>\n",
              "      </button>\n",
              "      \n",
              "  <style>\n",
              "    .colab-df-container {\n",
              "      display:flex;\n",
              "      flex-wrap:wrap;\n",
              "      gap: 12px;\n",
              "    }\n",
              "\n",
              "    .colab-df-convert {\n",
              "      background-color: #E8F0FE;\n",
              "      border: none;\n",
              "      border-radius: 50%;\n",
              "      cursor: pointer;\n",
              "      display: none;\n",
              "      fill: #1967D2;\n",
              "      height: 32px;\n",
              "      padding: 0 0 0 0;\n",
              "      width: 32px;\n",
              "    }\n",
              "\n",
              "    .colab-df-convert:hover {\n",
              "      background-color: #E2EBFA;\n",
              "      box-shadow: 0px 1px 2px rgba(60, 64, 67, 0.3), 0px 1px 3px 1px rgba(60, 64, 67, 0.15);\n",
              "      fill: #174EA6;\n",
              "    }\n",
              "\n",
              "    [theme=dark] .colab-df-convert {\n",
              "      background-color: #3B4455;\n",
              "      fill: #D2E3FC;\n",
              "    }\n",
              "\n",
              "    [theme=dark] .colab-df-convert:hover {\n",
              "      background-color: #434B5C;\n",
              "      box-shadow: 0px 1px 3px 1px rgba(0, 0, 0, 0.15);\n",
              "      filter: drop-shadow(0px 1px 2px rgba(0, 0, 0, 0.3));\n",
              "      fill: #FFFFFF;\n",
              "    }\n",
              "  </style>\n",
              "\n",
              "      <script>\n",
              "        const buttonEl =\n",
              "          document.querySelector('#df-60ea5198-3858-4beb-8c36-a722070e5782 button.colab-df-convert');\n",
              "        buttonEl.style.display =\n",
              "          google.colab.kernel.accessAllowed ? 'block' : 'none';\n",
              "\n",
              "        async function convertToInteractive(key) {\n",
              "          const element = document.querySelector('#df-60ea5198-3858-4beb-8c36-a722070e5782');\n",
              "          const dataTable =\n",
              "            await google.colab.kernel.invokeFunction('convertToInteractive',\n",
              "                                                     [key], {});\n",
              "          if (!dataTable) return;\n",
              "\n",
              "          const docLinkHtml = 'Like what you see? Visit the ' +\n",
              "            '<a target=\"_blank\" href=https://colab.research.google.com/notebooks/data_table.ipynb>data table notebook</a>'\n",
              "            + ' to learn more about interactive tables.';\n",
              "          element.innerHTML = '';\n",
              "          dataTable['output_type'] = 'display_data';\n",
              "          await google.colab.output.renderOutput(dataTable, element);\n",
              "          const docLink = document.createElement('div');\n",
              "          docLink.innerHTML = docLinkHtml;\n",
              "          element.appendChild(docLink);\n",
              "        }\n",
              "      </script>\n",
              "    </div>\n",
              "  </div>\n",
              "  "
            ]
          },
          "metadata": {},
          "execution_count": 127
        }
      ]
    },
    {
      "cell_type": "code",
      "source": [
        "df.info()"
      ],
      "metadata": {
        "colab": {
          "base_uri": "https://localhost:8080/"
        },
        "id": "zcqe435RR_pw",
        "outputId": "7a621560-0ccc-4321-d5c4-dca051de3a61"
      },
      "execution_count": 128,
      "outputs": [
        {
          "output_type": "stream",
          "name": "stdout",
          "text": [
            "<class 'pandas.core.frame.DataFrame'>\n",
            "RangeIndex: 3002 entries, 0 to 3001\n",
            "Data columns (total 9 columns):\n",
            " #   Column                                                                                                  Non-Null Count  Dtype \n",
            "---  ------                                                                                                  --------------  ----- \n",
            " 0   \"Children are safe among family members such as grandparents, uncles, aunts, cousins\"                   3002 non-null   object\n",
            " 1   \"Children are mainly abused by strangers in our society\"                                                3002 non-null   object\n",
            " 2   Male children dont need sexual abuse prevention knowledge                                               3002 non-null   object\n",
            " 3   \"Teaching sexual abuse prevention in school is not necessary. It will make children curious about sex\"  3002 non-null   object\n",
            " 4   Do you know what child grooming is?                                                                     3002 non-null   object\n",
            " 5   Do you know what signs to look for to identify if your child has been abused?                           3002 non-null   object\n",
            " 6   Do you think children need post abuse counseling for recovering?                                        3002 non-null   object\n",
            " 7   Do you think you should take legal action against the abuser of your child?                             3002 non-null   object\n",
            " 8   Knowledge Level                                                                                         3002 non-null   object\n",
            "dtypes: object(9)\n",
            "memory usage: 211.2+ KB\n"
          ]
        }
      ]
    },
    {
      "cell_type": "code",
      "source": [
        "df.describe()"
      ],
      "metadata": {
        "colab": {
          "base_uri": "https://localhost:8080/",
          "height": 323
        },
        "id": "VHFQFBrrSE2i",
        "outputId": "9b5be4ca-d4d5-4703-c447-8ca63d011145"
      },
      "execution_count": 129,
      "outputs": [
        {
          "output_type": "execute_result",
          "data": {
            "text/plain": [
              "       \"Children are safe among family members such as grandparents, uncles, aunts, cousins\"  \\\n",
              "count                                                3002                                      \n",
              "unique                                                  2                                      \n",
              "top                                              Disagree                                      \n",
              "freq                                                 1632                                      \n",
              "\n",
              "       \"Children are mainly abused by strangers in our society\"  \\\n",
              "count                                                3002         \n",
              "unique                                                  2         \n",
              "top                                              Disagree         \n",
              "freq                                                 1700         \n",
              "\n",
              "       Male children dont need sexual abuse prevention knowledge  \\\n",
              "count                                                3002          \n",
              "unique                                                  2          \n",
              "top                                              Disagree          \n",
              "freq                                                 1908          \n",
              "\n",
              "       \"Teaching sexual abuse prevention in school is not necessary. It will make children curious about sex\"  \\\n",
              "count                                                3002                                                       \n",
              "unique                                                  2                                                       \n",
              "top                                              Disagree                                                       \n",
              "freq                                                 1657                                                       \n",
              "\n",
              "       Do you know what child grooming is?  \\\n",
              "count                                 3002   \n",
              "unique                                   2   \n",
              "top                                     No   \n",
              "freq                                  1626   \n",
              "\n",
              "       Do you know what signs to look for to identify if your child has been abused?  \\\n",
              "count                                                3002                              \n",
              "unique                                                  2                              \n",
              "top                                                    No                              \n",
              "freq                                                 1521                              \n",
              "\n",
              "       Do you think children need post abuse counseling for recovering?  \\\n",
              "count                                                3002                 \n",
              "unique                                                  2                 \n",
              "top                                                   Yes                 \n",
              "freq                                                 2111                 \n",
              "\n",
              "       Do you think you should take legal action against the abuser of your child?  \\\n",
              "count                                                3002                            \n",
              "unique                                                  2                            \n",
              "top                                                   Yes                            \n",
              "freq                                                 1928                            \n",
              "\n",
              "       Knowledge Level  \n",
              "count             3002  \n",
              "unique               2  \n",
              "top           Beginner  \n",
              "freq              1711  "
            ],
            "text/html": [
              "\n",
              "  <div id=\"df-ea4ef7b4-2edb-4f94-8bde-8186ee29e69d\">\n",
              "    <div class=\"colab-df-container\">\n",
              "      <div>\n",
              "<style scoped>\n",
              "    .dataframe tbody tr th:only-of-type {\n",
              "        vertical-align: middle;\n",
              "    }\n",
              "\n",
              "    .dataframe tbody tr th {\n",
              "        vertical-align: top;\n",
              "    }\n",
              "\n",
              "    .dataframe thead th {\n",
              "        text-align: right;\n",
              "    }\n",
              "</style>\n",
              "<table border=\"1\" class=\"dataframe\">\n",
              "  <thead>\n",
              "    <tr style=\"text-align: right;\">\n",
              "      <th></th>\n",
              "      <th>\"Children are safe among family members such as grandparents, uncles, aunts, cousins\"</th>\n",
              "      <th>\"Children are mainly abused by strangers in our society\"</th>\n",
              "      <th>Male children dont need sexual abuse prevention knowledge</th>\n",
              "      <th>\"Teaching sexual abuse prevention in school is not necessary. It will make children curious about sex\"</th>\n",
              "      <th>Do you know what child grooming is?</th>\n",
              "      <th>Do you know what signs to look for to identify if your child has been abused?</th>\n",
              "      <th>Do you think children need post abuse counseling for recovering?</th>\n",
              "      <th>Do you think you should take legal action against the abuser of your child?</th>\n",
              "      <th>Knowledge Level</th>\n",
              "    </tr>\n",
              "  </thead>\n",
              "  <tbody>\n",
              "    <tr>\n",
              "      <th>count</th>\n",
              "      <td>3002</td>\n",
              "      <td>3002</td>\n",
              "      <td>3002</td>\n",
              "      <td>3002</td>\n",
              "      <td>3002</td>\n",
              "      <td>3002</td>\n",
              "      <td>3002</td>\n",
              "      <td>3002</td>\n",
              "      <td>3002</td>\n",
              "    </tr>\n",
              "    <tr>\n",
              "      <th>unique</th>\n",
              "      <td>2</td>\n",
              "      <td>2</td>\n",
              "      <td>2</td>\n",
              "      <td>2</td>\n",
              "      <td>2</td>\n",
              "      <td>2</td>\n",
              "      <td>2</td>\n",
              "      <td>2</td>\n",
              "      <td>2</td>\n",
              "    </tr>\n",
              "    <tr>\n",
              "      <th>top</th>\n",
              "      <td>Disagree</td>\n",
              "      <td>Disagree</td>\n",
              "      <td>Disagree</td>\n",
              "      <td>Disagree</td>\n",
              "      <td>No</td>\n",
              "      <td>No</td>\n",
              "      <td>Yes</td>\n",
              "      <td>Yes</td>\n",
              "      <td>Beginner</td>\n",
              "    </tr>\n",
              "    <tr>\n",
              "      <th>freq</th>\n",
              "      <td>1632</td>\n",
              "      <td>1700</td>\n",
              "      <td>1908</td>\n",
              "      <td>1657</td>\n",
              "      <td>1626</td>\n",
              "      <td>1521</td>\n",
              "      <td>2111</td>\n",
              "      <td>1928</td>\n",
              "      <td>1711</td>\n",
              "    </tr>\n",
              "  </tbody>\n",
              "</table>\n",
              "</div>\n",
              "      <button class=\"colab-df-convert\" onclick=\"convertToInteractive('df-ea4ef7b4-2edb-4f94-8bde-8186ee29e69d')\"\n",
              "              title=\"Convert this dataframe to an interactive table.\"\n",
              "              style=\"display:none;\">\n",
              "        \n",
              "  <svg xmlns=\"http://www.w3.org/2000/svg\" height=\"24px\"viewBox=\"0 0 24 24\"\n",
              "       width=\"24px\">\n",
              "    <path d=\"M0 0h24v24H0V0z\" fill=\"none\"/>\n",
              "    <path d=\"M18.56 5.44l.94 2.06.94-2.06 2.06-.94-2.06-.94-.94-2.06-.94 2.06-2.06.94zm-11 1L8.5 8.5l.94-2.06 2.06-.94-2.06-.94L8.5 2.5l-.94 2.06-2.06.94zm10 10l.94 2.06.94-2.06 2.06-.94-2.06-.94-.94-2.06-.94 2.06-2.06.94z\"/><path d=\"M17.41 7.96l-1.37-1.37c-.4-.4-.92-.59-1.43-.59-.52 0-1.04.2-1.43.59L10.3 9.45l-7.72 7.72c-.78.78-.78 2.05 0 2.83L4 21.41c.39.39.9.59 1.41.59.51 0 1.02-.2 1.41-.59l7.78-7.78 2.81-2.81c.8-.78.8-2.07 0-2.86zM5.41 20L4 18.59l7.72-7.72 1.47 1.35L5.41 20z\"/>\n",
              "  </svg>\n",
              "      </button>\n",
              "      \n",
              "  <style>\n",
              "    .colab-df-container {\n",
              "      display:flex;\n",
              "      flex-wrap:wrap;\n",
              "      gap: 12px;\n",
              "    }\n",
              "\n",
              "    .colab-df-convert {\n",
              "      background-color: #E8F0FE;\n",
              "      border: none;\n",
              "      border-radius: 50%;\n",
              "      cursor: pointer;\n",
              "      display: none;\n",
              "      fill: #1967D2;\n",
              "      height: 32px;\n",
              "      padding: 0 0 0 0;\n",
              "      width: 32px;\n",
              "    }\n",
              "\n",
              "    .colab-df-convert:hover {\n",
              "      background-color: #E2EBFA;\n",
              "      box-shadow: 0px 1px 2px rgba(60, 64, 67, 0.3), 0px 1px 3px 1px rgba(60, 64, 67, 0.15);\n",
              "      fill: #174EA6;\n",
              "    }\n",
              "\n",
              "    [theme=dark] .colab-df-convert {\n",
              "      background-color: #3B4455;\n",
              "      fill: #D2E3FC;\n",
              "    }\n",
              "\n",
              "    [theme=dark] .colab-df-convert:hover {\n",
              "      background-color: #434B5C;\n",
              "      box-shadow: 0px 1px 3px 1px rgba(0, 0, 0, 0.15);\n",
              "      filter: drop-shadow(0px 1px 2px rgba(0, 0, 0, 0.3));\n",
              "      fill: #FFFFFF;\n",
              "    }\n",
              "  </style>\n",
              "\n",
              "      <script>\n",
              "        const buttonEl =\n",
              "          document.querySelector('#df-ea4ef7b4-2edb-4f94-8bde-8186ee29e69d button.colab-df-convert');\n",
              "        buttonEl.style.display =\n",
              "          google.colab.kernel.accessAllowed ? 'block' : 'none';\n",
              "\n",
              "        async function convertToInteractive(key) {\n",
              "          const element = document.querySelector('#df-ea4ef7b4-2edb-4f94-8bde-8186ee29e69d');\n",
              "          const dataTable =\n",
              "            await google.colab.kernel.invokeFunction('convertToInteractive',\n",
              "                                                     [key], {});\n",
              "          if (!dataTable) return;\n",
              "\n",
              "          const docLinkHtml = 'Like what you see? Visit the ' +\n",
              "            '<a target=\"_blank\" href=https://colab.research.google.com/notebooks/data_table.ipynb>data table notebook</a>'\n",
              "            + ' to learn more about interactive tables.';\n",
              "          element.innerHTML = '';\n",
              "          dataTable['output_type'] = 'display_data';\n",
              "          await google.colab.output.renderOutput(dataTable, element);\n",
              "          const docLink = document.createElement('div');\n",
              "          docLink.innerHTML = docLinkHtml;\n",
              "          element.appendChild(docLink);\n",
              "        }\n",
              "      </script>\n",
              "    </div>\n",
              "  </div>\n",
              "  "
            ]
          },
          "metadata": {},
          "execution_count": 129
        }
      ]
    },
    {
      "cell_type": "markdown",
      "source": [
        "# Checking for null values"
      ],
      "metadata": {
        "id": "spuELmHETLQo"
      }
    },
    {
      "cell_type": "code",
      "source": [
        "df.isnull().sum()"
      ],
      "metadata": {
        "colab": {
          "base_uri": "https://localhost:8080/"
        },
        "id": "89VuNzJrSKXX",
        "outputId": "4bca4895-41c7-4484-c161-cd0c8789b431"
      },
      "execution_count": 130,
      "outputs": [
        {
          "output_type": "execute_result",
          "data": {
            "text/plain": [
              "\"Children are safe among family members such as grandparents, uncles, aunts, cousins\"                     0\n",
              "\"Children are mainly abused by strangers in our society\"                                                  0\n",
              "Male children dont need sexual abuse prevention knowledge                                                 0\n",
              "\"Teaching sexual abuse prevention in school is not necessary. It will make children curious about sex\"    0\n",
              "Do you know what child grooming is?                                                                       0\n",
              "Do you know what signs to look for to identify if your child has been abused?                             0\n",
              "Do you think children need post abuse counseling for recovering?                                          0\n",
              "Do you think you should take legal action against the abuser of your child?                               0\n",
              "Knowledge Level                                                                                           0\n",
              "dtype: int64"
            ]
          },
          "metadata": {},
          "execution_count": 130
        }
      ]
    },
    {
      "cell_type": "markdown",
      "source": [],
      "metadata": {
        "id": "Rh_6p_WATUfz"
      }
    },
    {
      "cell_type": "code",
      "source": [
        "\n",
        "\n",
        "sns.countplot(df['Knowledge Level'])\n",
        "\n"
      ],
      "metadata": {
        "colab": {
          "base_uri": "https://localhost:8080/",
          "height": 352
        },
        "id": "F_ZZ-tFBTU_D",
        "outputId": "c8d8877b-2e68-4dc8-e702-73c0c39fdb88"
      },
      "execution_count": 131,
      "outputs": [
        {
          "output_type": "stream",
          "name": "stderr",
          "text": [
            "/usr/local/lib/python3.8/dist-packages/seaborn/_decorators.py:36: FutureWarning: Pass the following variable as a keyword arg: x. From version 0.12, the only valid positional argument will be `data`, and passing other arguments without an explicit keyword will result in an error or misinterpretation.\n",
            "  warnings.warn(\n"
          ]
        },
        {
          "output_type": "execute_result",
          "data": {
            "text/plain": [
              "<matplotlib.axes._subplots.AxesSubplot at 0x7ff3da5ae640>"
            ]
          },
          "metadata": {},
          "execution_count": 131
        },
        {
          "output_type": "display_data",
          "data": {
            "text/plain": [
              "<Figure size 432x288 with 1 Axes>"
            ],
            "image/png": "[encoded data removed]"
          },
          "metadata": {
            "needs_background": "light"
          }
        }
      ]
    },
    {
      "cell_type": "code",
      "source": [
        "df.columns"
      ],
      "metadata": {
        "colab": {
          "base_uri": "https://localhost:8080/"
        },
        "id": "DvgOnJRzTaY-",
        "outputId": "37401e23-4852-4fa2-89d3-8048a6c26681"
      },
      "execution_count": 132,
      "outputs": [
        {
          "output_type": "execute_result",
          "data": {
            "text/plain": [
              "Index(['\"Children are safe among family members such as grandparents, uncles, aunts, cousins\"',\n",
              "       '\"Children are mainly abused by strangers in our society\"',\n",
              "       'Male children dont need sexual abuse prevention knowledge',\n",
              "       '\"Teaching sexual abuse prevention in school is not necessary. It will make children curious about sex\"',\n",
              "       'Do you know what child grooming is?',\n",
              "       'Do you know what signs to look for to identify if your child has been abused?',\n",
              "       'Do you think children need post abuse counseling for recovering?',\n",
              "       'Do you think you should take legal action against the abuser of your child?',\n",
              "       'Knowledge Level'],\n",
              "      dtype='object')"
            ]
          },
          "metadata": {},
          "execution_count": 132
        }
      ]
    },
    {
      "cell_type": "code",
      "source": [
        "q1 = '\"Children are safe among family members such as grandparents, uncles, aunts, cousins\"'\n",
        "q2 = '\"Children are mainly abused by strangers in our society\"'\n",
        "q3 = 'Male children dont need sexual abuse prevention knowledge'\n",
        "q4 = '\"Teaching sexual abuse prevention in school is not necessary. It will make children curious about sex\"'\n",
        "q5 = 'Do you know what child grooming is?'\n",
        "q6 = 'Do you know what signs to look for to identify if your child has been abused?'\n",
        "q7 = 'Do you think children need post abuse counseling for recovering?'\n",
        "q8 = 'Do you think you should take legal action against the abuser of your child?'"
      ],
      "metadata": {
        "id": "ocKzCTj9Tmf3"
      },
      "execution_count": 133,
      "outputs": []
    },
    {
      "cell_type": "code",
      "source": [
        "text_to_id ={\n",
        "    \"Agree\":1,\n",
        "    \"Disagree\":0,\n",
        "    \"No\": 0,\n",
        "    \"Yes\":1\n",
        "}"
      ],
      "metadata": {
        "id": "0Yb_in3aT7LR"
      },
      "execution_count": 134,
      "outputs": []
    },
    {
      "cell_type": "code",
      "source": [
        "df[q1] =  df[q1].map(text_to_id)\n",
        "df[q2] =  df[q2].map(text_to_id)\n",
        "df[q3] =  df[q3].map(text_to_id)\n",
        "df[q4] =  df[q4].map(text_to_id)\n",
        "df[q5] =  df[q5].map(text_to_id)\n",
        "df[q6] =  df[q6].map(text_to_id)\n",
        "df[q7] =  df[q7].map(text_to_id)\n",
        "df[q8] =  df[q8].map(text_to_id)"
      ],
      "metadata": {
        "id": "nKnakuz1UBJy"
      },
      "execution_count": 135,
      "outputs": []
    },
    {
      "cell_type": "code",
      "source": [
        "\n",
        "\n",
        "df.head()\n",
        "\n"
      ],
      "metadata": {
        "colab": {
          "base_uri": "https://localhost:8080/",
          "height": 354
        },
        "id": "wQ7O0m2nUKro",
        "outputId": "ca02456d-4f47-4f48-93ca-71791a76342b"
      },
      "execution_count": 136,
      "outputs": [
        {
          "output_type": "execute_result",
          "data": {
            "text/plain": [
              "   \"Children are safe among family members such as grandparents, uncles, aunts, cousins\"  \\\n",
              "0                                                  1                                       \n",
              "1                                                  1                                       \n",
              "2                                                  0                                       \n",
              "3                                                  1                                       \n",
              "4                                                  1                                       \n",
              "\n",
              "   \"Children are mainly abused by strangers in our society\"  \\\n",
              "0                                                  1          \n",
              "1                                                  1          \n",
              "2                                                  0          \n",
              "3                                                  1          \n",
              "4                                                  0          \n",
              "\n",
              "   Male children dont need sexual abuse prevention knowledge  \\\n",
              "0                                                  0           \n",
              "1                                                  0           \n",
              "2                                                  0           \n",
              "3                                                  0           \n",
              "4                                                  0           \n",
              "\n",
              "   \"Teaching sexual abuse prevention in school is not necessary. It will make children curious about sex\"  \\\n",
              "0                                                  1                                                        \n",
              "1                                                  0                                                        \n",
              "2                                                  0                                                        \n",
              "3                                                  0                                                        \n",
              "4                                                  0                                                        \n",
              "\n",
              "   Do you know what child grooming is?  \\\n",
              "0                                    0   \n",
              "1                                    0   \n",
              "2                                    0   \n",
              "3                                    0   \n",
              "4                                    1   \n",
              "\n",
              "   Do you know what signs to look for to identify if your child has been abused?  \\\n",
              "0                                                  0                               \n",
              "1                                                  0                               \n",
              "2                                                  0                               \n",
              "3                                                  0                               \n",
              "4                                                  1                               \n",
              "\n",
              "   Do you think children need post abuse counseling for recovering?  \\\n",
              "0                                                  0                  \n",
              "1                                                  1                  \n",
              "2                                                  1                  \n",
              "3                                                  1                  \n",
              "4                                                  1                  \n",
              "\n",
              "   Do you think you should take legal action against the abuser of your child?  \\\n",
              "0                                                  1                             \n",
              "1                                                  1                             \n",
              "2                                                  1                             \n",
              "3                                                  1                             \n",
              "4                                                  1                             \n",
              "\n",
              "  Knowledge Level  \n",
              "0        Beginner  \n",
              "1        Beginner  \n",
              "2        Beginner  \n",
              "3        Beginner  \n",
              "4    Intermediate  "
            ],
            "text/html": [
              "\n",
              "  <div id=\"df-a0d79999-1ab5-43ab-a31e-e1c1983a8c9c\">\n",
              "    <div class=\"colab-df-container\">\n",
              "      <div>\n",
              "<style scoped>\n",
              "    .dataframe tbody tr th:only-of-type {\n",
              "        vertical-align: middle;\n",
              "    }\n",
              "\n",
              "    .dataframe tbody tr th {\n",
              "        vertical-align: top;\n",
              "    }\n",
              "\n",
              "    .dataframe thead th {\n",
              "        text-align: right;\n",
              "    }\n",
              "</style>\n",
              "<table border=\"1\" class=\"dataframe\">\n",
              "  <thead>\n",
              "    <tr style=\"text-align: right;\">\n",
              "      <th></th>\n",
              "      <th>\"Children are safe among family members such as grandparents, uncles, aunts, cousins\"</th>\n",
              "      <th>\"Children are mainly abused by strangers in our society\"</th>\n",
              "      <th>Male children dont need sexual abuse prevention knowledge</th>\n",
              "      <th>\"Teaching sexual abuse prevention in school is not necessary. It will make children curious about sex\"</th>\n",
              "      <th>Do you know what child grooming is?</th>\n",
              "      <th>Do you know what signs to look for to identify if your child has been abused?</th>\n",
              "      <th>Do you think children need post abuse counseling for recovering?</th>\n",
              "      <th>Do you think you should take legal action against the abuser of your child?</th>\n",
              "      <th>Knowledge Level</th>\n",
              "    </tr>\n",
              "  </thead>\n",
              "  <tbody>\n",
              "    <tr>\n",
              "      <th>0</th>\n",
              "      <td>1</td>\n",
              "      <td>1</td>\n",
              "      <td>0</td>\n",
              "      <td>1</td>\n",
              "      <td>0</td>\n",
              "      <td>0</td>\n",
              "      <td>0</td>\n",
              "      <td>1</td>\n",
              "      <td>Beginner</td>\n",
              "    </tr>\n",
              "    <tr>\n",
              "      <th>1</th>\n",
              "      <td>1</td>\n",
              "      <td>1</td>\n",
              "      <td>0</td>\n",
              "      <td>0</td>\n",
              "      <td>0</td>\n",
              "      <td>0</td>\n",
              "      <td>1</td>\n",
              "      <td>1</td>\n",
              "      <td>Beginner</td>\n",
              "    </tr>\n",
              "    <tr>\n",
              "      <th>2</th>\n",
              "      <td>0</td>\n",
              "      <td>0</td>\n",
              "      <td>0</td>\n",
              "      <td>0</td>\n",
              "      <td>0</td>\n",
              "      <td>0</td>\n",
              "      <td>1</td>\n",
              "      <td>1</td>\n",
              "      <td>Beginner</td>\n",
              "    </tr>\n",
              "    <tr>\n",
              "      <th>3</th>\n",
              "      <td>1</td>\n",
              "      <td>1</td>\n",
              "      <td>0</td>\n",
              "      <td>0</td>\n",
              "      <td>0</td>\n",
              "      <td>0</td>\n",
              "      <td>1</td>\n",
              "      <td>1</td>\n",
              "      <td>Beginner</td>\n",
              "    </tr>\n",
              "    <tr>\n",
              "      <th>4</th>\n",
              "      <td>1</td>\n",
              "      <td>0</td>\n",
              "      <td>0</td>\n",
              "      <td>0</td>\n",
              "      <td>1</td>\n",
              "      <td>1</td>\n",
              "      <td>1</td>\n",
              "      <td>1</td>\n",
              "      <td>Intermediate</td>\n",
              "    </tr>\n",
              "  </tbody>\n",
              "</table>\n",
              "</div>\n",
              "      <button class=\"colab-df-convert\" onclick=\"convertToInteractive('df-a0d79999-1ab5-43ab-a31e-e1c1983a8c9c')\"\n",
              "              title=\"Convert this dataframe to an interactive table.\"\n",
              "              style=\"display:none;\">\n",
              "        \n",
              "  <svg xmlns=\"http://www.w3.org/2000/svg\" height=\"24px\"viewBox=\"0 0 24 24\"\n",
              "       width=\"24px\">\n",
              "    <path d=\"M0 0h24v24H0V0z\" fill=\"none\"/>\n",
              "    <path d=\"M18.56 5.44l.94 2.06.94-2.06 2.06-.94-2.06-.94-.94-2.06-.94 2.06-2.06.94zm-11 1L8.5 8.5l.94-2.06 2.06-.94-2.06-.94L8.5 2.5l-.94 2.06-2.06.94zm10 10l.94 2.06.94-2.06 2.06-.94-2.06-.94-.94-2.06-.94 2.06-2.06.94z\"/><path d=\"M17.41 7.96l-1.37-1.37c-.4-.4-.92-.59-1.43-.59-.52 0-1.04.2-1.43.59L10.3 9.45l-7.72 7.72c-.78.78-.78 2.05 0 2.83L4 21.41c.39.39.9.59 1.41.59.51 0 1.02-.2 1.41-.59l7.78-7.78 2.81-2.81c.8-.78.8-2.07 0-2.86zM5.41 20L4 18.59l7.72-7.72 1.47 1.35L5.41 20z\"/>\n",
              "  </svg>\n",
              "      </button>\n",
              "      \n",
              "  <style>\n",
              "    .colab-df-container {\n",
              "      display:flex;\n",
              "      flex-wrap:wrap;\n",
              "      gap: 12px;\n",
              "    }\n",
              "\n",
              "    .colab-df-convert {\n",
              "      background-color: #E8F0FE;\n",
              "      border: none;\n",
              "      border-radius: 50%;\n",
              "      cursor: pointer;\n",
              "      display: none;\n",
              "      fill: #1967D2;\n",
              "      height: 32px;\n",
              "      padding: 0 0 0 0;\n",
              "      width: 32px;\n",
              "    }\n",
              "\n",
              "    .colab-df-convert:hover {\n",
              "      background-color: #E2EBFA;\n",
              "      box-shadow: 0px 1px 2px rgba(60, 64, 67, 0.3), 0px 1px 3px 1px rgba(60, 64, 67, 0.15);\n",
              "      fill: #174EA6;\n",
              "    }\n",
              "\n",
              "    [theme=dark] .colab-df-convert {\n",
              "      background-color: #3B4455;\n",
              "      fill: #D2E3FC;\n",
              "    }\n",
              "\n",
              "    [theme=dark] .colab-df-convert:hover {\n",
              "      background-color: #434B5C;\n",
              "      box-shadow: 0px 1px 3px 1px rgba(0, 0, 0, 0.15);\n",
              "      filter: drop-shadow(0px 1px 2px rgba(0, 0, 0, 0.3));\n",
              "      fill: #FFFFFF;\n",
              "    }\n",
              "  </style>\n",
              "\n",
              "      <script>\n",
              "        const buttonEl =\n",
              "          document.querySelector('#df-a0d79999-1ab5-43ab-a31e-e1c1983a8c9c button.colab-df-convert');\n",
              "        buttonEl.style.display =\n",
              "          google.colab.kernel.accessAllowed ? 'block' : 'none';\n",
              "\n",
              "        async function convertToInteractive(key) {\n",
              "          const element = document.querySelector('#df-a0d79999-1ab5-43ab-a31e-e1c1983a8c9c');\n",
              "          const dataTable =\n",
              "            await google.colab.kernel.invokeFunction('convertToInteractive',\n",
              "                                                     [key], {});\n",
              "          if (!dataTable) return;\n",
              "\n",
              "          const docLinkHtml = 'Like what you see? Visit the ' +\n",
              "            '<a target=\"_blank\" href=https://colab.research.google.com/notebooks/data_table.ipynb>data table notebook</a>'\n",
              "            + ' to learn more about interactive tables.';\n",
              "          element.innerHTML = '';\n",
              "          dataTable['output_type'] = 'display_data';\n",
              "          await google.colab.output.renderOutput(dataTable, element);\n",
              "          const docLink = document.createElement('div');\n",
              "          docLink.innerHTML = docLinkHtml;\n",
              "          element.appendChild(docLink);\n",
              "        }\n",
              "      </script>\n",
              "    </div>\n",
              "  </div>\n",
              "  "
            ]
          },
          "metadata": {},
          "execution_count": 136
        }
      ]
    },
    {
      "cell_type": "markdown",
      "source": [
        "## Extracting Feature columns and target column"
      ],
      "metadata": {
        "id": "LYJQG4RpURUf"
      }
    },
    {
      "cell_type": "code",
      "source": [
        "X = df.iloc[:, 0:8]\n",
        "y = df['Knowledge Level']"
      ],
      "metadata": {
        "id": "Z7J7TU4fUSPq"
      },
      "execution_count": 137,
      "outputs": []
    },
    {
      "cell_type": "code",
      "source": [
        "from sklearn.model_selection import train_test_split\n",
        "from sklearn.linear_model import LogisticRegression\n",
        "from sklearn.naive_bayes import MultinomialNB\n",
        "from sklearn.tree import DecisionTreeClassifier\n",
        "from sklearn.svm import SVC\n",
        "from sklearn.ensemble import RandomForestClassifier\n",
        "\n",
        "from sklearn.metrics import accuracy_score,confusion_matrix,classification_report"
      ],
      "metadata": {
        "id": "7cxdjOXAUaVC"
      },
      "execution_count": 138,
      "outputs": []
    },
    {
      "cell_type": "markdown",
      "source": [
        "#Spliting Dataset into train and test\n",
        "\n"
      ],
      "metadata": {
        "id": "3NCixnXjUeHU"
      }
    },
    {
      "cell_type": "code",
      "source": [
        "X_train,X_test,y_train,y_test = train_test_split(X,y,test_size = 0.2,stratify = y,random_state= 42)"
      ],
      "metadata": {
        "id": "bZ2CJqdDUj3S"
      },
      "execution_count": 139,
      "outputs": []
    },
    {
      "cell_type": "markdown",
      "source": [
        "# Machine Learning"
      ],
      "metadata": {
        "id": "iF31puP4UriN"
      }
    },
    {
      "cell_type": "markdown",
      "source": [
        "\n",
        "# Logistic Regression"
      ],
      "metadata": {
        "id": "e_FB6ThkU08T"
      }
    },
    {
      "cell_type": "code",
      "source": [
        "clf_lr = LogisticRegression()\n",
        "clf_lr.fit(X_train,y_train)\n",
        "y_pred_lr = clf_lr.predict(X_test)"
      ],
      "metadata": {
        "id": "HU46RjbeU7Xh"
      },
      "execution_count": 140,
      "outputs": []
    },
    {
      "cell_type": "code",
      "source": [
        "\n",
        "\n",
        "print(accuracy_score(y_test,y_pred_lr))\n",
        "\n"
      ],
      "metadata": {
        "colab": {
          "base_uri": "https://localhost:8080/"
        },
        "id": "C1MLdIjiVC6y",
        "outputId": "a67716f2-03d7-4033-c061-585d0a9151b0"
      },
      "execution_count": 141,
      "outputs": [
        {
          "output_type": "stream",
          "name": "stdout",
          "text": [
            "0.8752079866888519\n"
          ]
        }
      ]
    },
    {
      "cell_type": "code",
      "source": [
        "\n",
        "\n",
        "labels = ['Beginner','Intermediate']\n",
        "sns.heatmap(confusion_matrix(y_test,y_pred_lr),xticklabels = labels,yticklabels = labels,annot = True,fmt='d')\n",
        "print(classification_report(y_test,y_pred_lr))\n",
        "\n"
      ],
      "metadata": {
        "colab": {
          "base_uri": "https://localhost:8080/",
          "height": 425
        },
        "id": "S7T4Z7CPVJDR",
        "outputId": "ba5adc5c-9120-4f84-c42e-46c11da0b392"
      },
      "execution_count": 142,
      "outputs": [
        {
          "output_type": "stream",
          "name": "stdout",
          "text": [
            "              precision    recall  f1-score   support\n",
            "\n",
            "    Beginner       0.93      0.85      0.89       343\n",
            "Intermediate       0.82      0.91      0.86       258\n",
            "\n",
            "    accuracy                           0.88       601\n",
            "   macro avg       0.87      0.88      0.87       601\n",
            "weighted avg       0.88      0.88      0.88       601\n",
            "\n"
          ]
        },
        {
          "output_type": "display_data",
          "data": {
            "text/plain": [
              "<Figure size 432x288 with 2 Axes>"
            ],
            "image/png": "[encoded data removed]"
          },
          "metadata": {
            "needs_background": "light"
          }
        }
      ]
    },
    {
      "cell_type": "markdown",
      "source": [
        "\n",
        "# Naive Bayes"
      ],
      "metadata": {
        "id": "iJpaD6cVVNBr"
      }
    },
    {
      "cell_type": "code",
      "source": [
        "\n",
        "\n",
        "clf_nb = MultinomialNB()\n",
        "clf_nb.fit(X_train,y_train)\n",
        "y_pred_nb = clf_nb.predict(X_test)\n",
        "\n"
      ],
      "metadata": {
        "id": "Nvak2koRVSPT"
      },
      "execution_count": 143,
      "outputs": []
    },
    {
      "cell_type": "code",
      "source": [
        "\n",
        "\n",
        "print(f'Accuracy: {accuracy_score(y_test,y_pred_nb)}\\n')\n",
        "sns.heatmap(confusion_matrix(y_test,y_pred_nb),xticklabels = labels,yticklabels = labels,annot = True,fmt='d')\n",
        "print(f'Classification Report: \\n {classification_report(y_test,y_pred_nb)}')\n",
        "\n"
      ],
      "metadata": {
        "colab": {
          "base_uri": "https://localhost:8080/",
          "height": 478
        },
        "id": "nIsncXHyVV7Z",
        "outputId": "ab864a25-93db-47a1-e359-8447eae3af00"
      },
      "execution_count": 144,
      "outputs": [
        {
          "output_type": "stream",
          "name": "stdout",
          "text": [
            "Accuracy: 0.7703826955074875\n",
            "\n",
            "Classification Report: \n",
            "               precision    recall  f1-score   support\n",
            "\n",
            "    Beginner       0.78      0.83      0.81       343\n",
            "Intermediate       0.76      0.69      0.72       258\n",
            "\n",
            "    accuracy                           0.77       601\n",
            "   macro avg       0.77      0.76      0.76       601\n",
            "weighted avg       0.77      0.77      0.77       601\n",
            "\n"
          ]
        },
        {
          "output_type": "display_data",
          "data": {
            "text/plain": [
              "<Figure size 432x288 with 2 Axes>"
            ],
            "image/png": "[encoded data removed]"
          },
          "metadata": {
            "needs_background": "light"
          }
        }
      ]
    },
    {
      "cell_type": "markdown",
      "source": [
        "# SVM"
      ],
      "metadata": {
        "id": "1TLwK19bVeZ_"
      }
    },
    {
      "cell_type": "code",
      "source": [
        "\n",
        "\n",
        "clf_svc = SVC()\n",
        "clf_svc.fit(X_train,y_train)\n",
        "y_pred_svc = clf_svc.predict(X_test)\n",
        "\n"
      ],
      "metadata": {
        "id": "Mh-OieEbVfmy"
      },
      "execution_count": 145,
      "outputs": []
    },
    {
      "cell_type": "code",
      "source": [
        "\n",
        "\n",
        "print(f'Accuracy: {accuracy_score(y_test,y_pred_svc)}\\n')\n",
        "sns.heatmap(confusion_matrix(y_test,y_pred_svc),xticklabels = labels,yticklabels = labels,annot = True,fmt='d')\n",
        "print(f'Classification Report: \\n {classification_report(y_test,y_pred_svc)}')\n",
        "\n"
      ],
      "metadata": {
        "colab": {
          "base_uri": "https://localhost:8080/",
          "height": 478
        },
        "id": "edlJP_cCVijY",
        "outputId": "e016d1a8-b9a1-4436-d623-86d707e10ad4"
      },
      "execution_count": 146,
      "outputs": [
        {
          "output_type": "stream",
          "name": "stdout",
          "text": [
            "Accuracy: 0.9284525790349417\n",
            "\n",
            "Classification Report: \n",
            "               precision    recall  f1-score   support\n",
            "\n",
            "    Beginner       0.94      0.94      0.94       343\n",
            "Intermediate       0.92      0.91      0.92       258\n",
            "\n",
            "    accuracy                           0.93       601\n",
            "   macro avg       0.93      0.93      0.93       601\n",
            "weighted avg       0.93      0.93      0.93       601\n",
            "\n"
          ]
        },
        {
          "output_type": "display_data",
          "data": {
            "text/plain": [
              "<Figure size 432x288 with 2 Axes>"
            ],
            "image/png": "[encoded data removed]"
          },
          "metadata": {
            "needs_background": "light"
          }
        }
      ]
    },
    {
      "cell_type": "markdown",
      "source": [
        "# Decison Tree"
      ],
      "metadata": {
        "id": "bHlfKwJoVuXw"
      }
    },
    {
      "cell_type": "code",
      "source": [
        "clf_dt = DecisionTreeClassifier()\n",
        "clf_dt.fit(X_train,y_train)\n",
        "y_pred_dt = clf_dt.predict(X_test)"
      ],
      "metadata": {
        "id": "bUMWG-4GVyEO"
      },
      "execution_count": 147,
      "outputs": []
    },
    {
      "cell_type": "code",
      "source": [
        "print(f'Accuracy: {accuracy_score(y_test,y_pred_dt)}\\n')\n",
        "sns.heatmap(confusion_matrix(y_test,y_pred_dt),xticklabels = labels,yticklabels = labels,annot = True,fmt='d')\n",
        "print(f'Classification Report: \\n {classification_report(y_test,y_pred_dt)}')"
      ],
      "metadata": {
        "colab": {
          "base_uri": "https://localhost:8080/",
          "height": 478
        },
        "id": "38pRnWnXV3cI",
        "outputId": "473fdec1-1cbf-4dbd-e476-a5c3dfaaa408"
      },
      "execution_count": 148,
      "outputs": [
        {
          "output_type": "stream",
          "name": "stdout",
          "text": [
            "Accuracy: 0.9334442595673876\n",
            "\n",
            "Classification Report: \n",
            "               precision    recall  f1-score   support\n",
            "\n",
            "    Beginner       0.94      0.94      0.94       343\n",
            "Intermediate       0.93      0.92      0.92       258\n",
            "\n",
            "    accuracy                           0.93       601\n",
            "   macro avg       0.93      0.93      0.93       601\n",
            "weighted avg       0.93      0.93      0.93       601\n",
            "\n"
          ]
        },
        {
          "output_type": "display_data",
          "data": {
            "text/plain": [
              "<Figure size 432x288 with 2 Axes>"
            ],
            "image/png": "[encoded data removed]"
          },
          "metadata": {
            "needs_background": "light"
          }
        }
      ]
    },
    {
      "cell_type": "markdown",
      "source": [
        "# Random Forest"
      ],
      "metadata": {
        "id": "W32ZWfCdV5cw"
      }
    },
    {
      "cell_type": "code",
      "source": [
        "clf_rf = RandomForestClassifier()\n",
        "clf_rf.fit(X_train,y_train)\n",
        "y_pred_rf = clf_rf.predict(X_test)"
      ],
      "metadata": {
        "id": "pmKkpQJIV9Iu"
      },
      "execution_count": 149,
      "outputs": []
    },
    {
      "cell_type": "code",
      "source": [
        "\n",
        "\n",
        "print(f'Accuracy: {accuracy_score(y_test,y_pred_rf)}\\n')\n",
        "sns.heatmap(confusion_matrix(y_test,y_pred_rf),xticklabels = labels,yticklabels = labels,annot = True,fmt='d')\n",
        "print(f'Classification Report: \\n {classification_report(y_test,y_pred_rf)}')\n",
        "\n"
      ],
      "metadata": {
        "colab": {
          "base_uri": "https://localhost:8080/",
          "height": 478
        },
        "id": "KEg2sV_mWAEI",
        "outputId": "ca629e1f-1bbd-471b-f2be-ecbea6f5a376"
      },
      "execution_count": 150,
      "outputs": [
        {
          "output_type": "stream",
          "name": "stdout",
          "text": [
            "Accuracy: 0.9334442595673876\n",
            "\n",
            "Classification Report: \n",
            "               precision    recall  f1-score   support\n",
            "\n",
            "    Beginner       0.95      0.94      0.94       343\n",
            "Intermediate       0.92      0.93      0.92       258\n",
            "\n",
            "    accuracy                           0.93       601\n",
            "   macro avg       0.93      0.93      0.93       601\n",
            "weighted avg       0.93      0.93      0.93       601\n",
            "\n"
          ]
        },
        {
          "output_type": "display_data",
          "data": {
            "text/plain": [
              "<Figure size 432x288 with 2 Axes>"
            ],
            "image/png": "[encoded data removed]"
          },
          "metadata": {
            "needs_background": "light"
          }
        }
      ]
    },
    {
      "cell_type": "markdown",
      "source": [
        "# ML Models performance Visualization"
      ],
      "metadata": {
        "id": "Dh0gR4v7WGPj"
      }
    },
    {
      "cell_type": "code",
      "source": [
        "\n",
        "\n",
        "acc_dict = {'LR':accuracy_score(y_test,y_pred_lr),\n",
        "            'MNB':accuracy_score(y_test,y_pred_nb),\n",
        "            'SVM':accuracy_score(y_test,y_pred_svc),\n",
        "            'RF':accuracy_score(y_test,y_pred_rf),\n",
        "            'DT':accuracy_score(y_test,y_pred_dt)}\n",
        "\n"
      ],
      "metadata": {
        "id": "srreQtTYWJ3t"
      },
      "execution_count": 151,
      "outputs": []
    },
    {
      "cell_type": "code",
      "source": [
        "\n",
        "\n",
        "algorithms = list(acc_dict.keys())\n",
        "acc_score = list(acc_dict.values())\n",
        "\n"
      ],
      "metadata": {
        "id": "Z8KM25ayWQUY"
      },
      "execution_count": 152,
      "outputs": []
    },
    {
      "cell_type": "code",
      "source": [
        "\n",
        "\n",
        "plt.figure(figsize=(10,6))\n",
        "plt.bar(algorithms,\n",
        "        acc_score,\n",
        "        color = ['cyan', 'lime','blue', 'orange','darkcyan'],\n",
        "        width = 0.4)\n",
        "plt.xlabel(\"Name of Algorithms\")\n",
        "plt.ylabel(\"Accuracy Score\")\n",
        "plt.title(\"Evaluation of accuracy score\")\n",
        "plt.show()\n",
        "\n"
      ],
      "metadata": {
        "colab": {
          "base_uri": "https://localhost:8080/",
          "height": 404
        },
        "id": "QYPVDYHPWVm7",
        "outputId": "21c264e8-a792-45b2-830f-f3127846cdd3"
      },
      "execution_count": 153,
      "outputs": [
        {
          "output_type": "display_data",
          "data": {
            "text/plain": [
              "<Figure size 720x432 with 1 Axes>"
            ],
            "image/png": "[encoded data removed]"
          },
          "metadata": {
            "needs_background": "light"
          }
        }
      ]
    },
    {
      "cell_type": "markdown",
      "source": [
        "# Deep Learning"
      ],
      "metadata": {
        "id": "oNS_hLlEWbyh"
      }
    },
    {
      "cell_type": "code",
      "source": [
        "\n",
        "\n",
        "from tensorflow.keras.utils import to_categorical\n",
        "from keras.layers import Input,Dense\n",
        "from keras import Model\n",
        "\n"
      ],
      "metadata": {
        "id": "0gQPERBaWczt"
      },
      "execution_count": 154,
      "outputs": []
    },
    {
      "cell_type": "code",
      "source": [
        "\n",
        "\n",
        "y = df['Knowledge Level'].map({'Beginner':0,\n",
        "                               'Intermediate':1})\n",
        "y = to_categorical(y)\n",
        "\n"
      ],
      "metadata": {
        "id": "xMGPWtm5Wffq"
      },
      "execution_count": 155,
      "outputs": []
    },
    {
      "cell_type": "markdown",
      "source": [
        "# Creating a simple deep learning model"
      ],
      "metadata": {
        "id": "-vfSL9PBWmJH"
      }
    },
    {
      "cell_type": "code",
      "source": [
        "inp = Input(shape=8)\n",
        "x = Dense(32,activation='relu')(inp)\n",
        "op = Dense(2,activation='softmax')(x)\n",
        "\n",
        "model = Model(inputs = inp,outputs = op)\n",
        "model.summary()"
      ],
      "metadata": {
        "colab": {
          "base_uri": "https://localhost:8080/"
        },
        "id": "BWykmjtkWi0D",
        "outputId": "47fcaa6d-448c-493e-abb2-4cd81f519fc0"
      },
      "execution_count": 156,
      "outputs": [
        {
          "output_type": "stream",
          "name": "stdout",
          "text": [
            "Model: \"model_1\"\n",
            "_________________________________________________________________\n",
            " Layer (type)                Output Shape              Param #   \n",
            "=================================================================\n",
            " input_2 (InputLayer)        [(None, 8)]               0         \n",
            "                                                                 \n",
            " dense_2 (Dense)             (None, 32)                288       \n",
            "                                                                 \n",
            " dense_3 (Dense)             (None, 2)                 66        \n",
            "                                                                 \n",
            "=================================================================\n",
            "Total params: 354\n",
            "Trainable params: 354\n",
            "Non-trainable params: 0\n",
            "_________________________________________________________________\n"
          ]
        }
      ]
    },
    {
      "cell_type": "code",
      "source": [
        "\n",
        "\n",
        "model.compile(optimizer = 'adam',loss='binary_crossentropy',metrics = ['acc'])\n",
        "history = model.fit(X,y,validation_split = 0.1,epochs = 30)\n",
        "\n"
      ],
      "metadata": {
        "colab": {
          "base_uri": "https://localhost:8080/"
        },
        "id": "QuTFCuFqWqh_",
        "outputId": "1614e0c9-ffda-4412-abc0-8c62e8b855cf"
      },
      "execution_count": 157,
      "outputs": [
        {
          "output_type": "stream",
          "name": "stdout",
          "text": [
            "Epoch 1/30\n",
            "85/85 [==============================] - 1s 4ms/step - loss: 0.6691 - acc: 0.5790 - val_loss: 0.6336 - val_acc: 0.5216\n",
            "Epoch 2/30\n",
            "85/85 [==============================] - 0s 2ms/step - loss: 0.5518 - acc: 0.7071 - val_loss: 0.5283 - val_acc: 0.8571\n",
            "Epoch 3/30\n",
            "85/85 [==============================] - 0s 2ms/step - loss: 0.4696 - acc: 0.8364 - val_loss: 0.4647 - val_acc: 0.8073\n",
            "Epoch 4/30\n",
            "85/85 [==============================] - 0s 2ms/step - loss: 0.4197 - acc: 0.8523 - val_loss: 0.4150 - val_acc: 0.8704\n",
            "Epoch 5/30\n",
            "85/85 [==============================] - 0s 2ms/step - loss: 0.3905 - acc: 0.8467 - val_loss: 0.3800 - val_acc: 0.8804\n",
            "Epoch 6/30\n",
            "85/85 [==============================] - 0s 2ms/step - loss: 0.3695 - acc: 0.8549 - val_loss: 0.3625 - val_acc: 0.8970\n",
            "Epoch 7/30\n",
            "85/85 [==============================] - 0s 2ms/step - loss: 0.3521 - acc: 0.8660 - val_loss: 0.3452 - val_acc: 0.8970\n",
            "Epoch 8/30\n",
            "85/85 [==============================] - 0s 2ms/step - loss: 0.3382 - acc: 0.8675 - val_loss: 0.3227 - val_acc: 0.8970\n",
            "Epoch 9/30\n",
            "85/85 [==============================] - 0s 2ms/step - loss: 0.3263 - acc: 0.8715 - val_loss: 0.3072 - val_acc: 0.8970\n",
            "Epoch 10/30\n",
            "85/85 [==============================] - 0s 2ms/step - loss: 0.3157 - acc: 0.8726 - val_loss: 0.2940 - val_acc: 0.9070\n",
            "Epoch 11/30\n",
            "85/85 [==============================] - 0s 2ms/step - loss: 0.3057 - acc: 0.8834 - val_loss: 0.2838 - val_acc: 0.9136\n",
            "Epoch 12/30\n",
            "85/85 [==============================] - 0s 2ms/step - loss: 0.2977 - acc: 0.8860 - val_loss: 0.2723 - val_acc: 0.9136\n",
            "Epoch 13/30\n",
            "85/85 [==============================] - 0s 2ms/step - loss: 0.2906 - acc: 0.8856 - val_loss: 0.2646 - val_acc: 0.9136\n",
            "Epoch 14/30\n",
            "85/85 [==============================] - 0s 2ms/step - loss: 0.2849 - acc: 0.8926 - val_loss: 0.2575 - val_acc: 0.9103\n",
            "Epoch 15/30\n",
            "85/85 [==============================] - 0s 2ms/step - loss: 0.2790 - acc: 0.8926 - val_loss: 0.2497 - val_acc: 0.9103\n",
            "Epoch 16/30\n",
            "85/85 [==============================] - 0s 4ms/step - loss: 0.2747 - acc: 0.8945 - val_loss: 0.2435 - val_acc: 0.9103\n",
            "Epoch 17/30\n",
            "85/85 [==============================] - 0s 2ms/step - loss: 0.2699 - acc: 0.8967 - val_loss: 0.2399 - val_acc: 0.9103\n",
            "Epoch 18/30\n",
            "85/85 [==============================] - 0s 2ms/step - loss: 0.2662 - acc: 0.8993 - val_loss: 0.2331 - val_acc: 0.9103\n",
            "Epoch 19/30\n",
            "85/85 [==============================] - 0s 2ms/step - loss: 0.2631 - acc: 0.9049 - val_loss: 0.2286 - val_acc: 0.9269\n",
            "Epoch 20/30\n",
            "85/85 [==============================] - 0s 2ms/step - loss: 0.2600 - acc: 0.9030 - val_loss: 0.2262 - val_acc: 0.9269\n",
            "Epoch 21/30\n",
            "85/85 [==============================] - 0s 2ms/step - loss: 0.2583 - acc: 0.9067 - val_loss: 0.2214 - val_acc: 0.9269\n",
            "Epoch 22/30\n",
            "85/85 [==============================] - 0s 2ms/step - loss: 0.2566 - acc: 0.9071 - val_loss: 0.2202 - val_acc: 0.9269\n",
            "Epoch 23/30\n",
            "85/85 [==============================] - 0s 2ms/step - loss: 0.2543 - acc: 0.9071 - val_loss: 0.2165 - val_acc: 0.9269\n",
            "Epoch 24/30\n",
            "85/85 [==============================] - 0s 2ms/step - loss: 0.2523 - acc: 0.9074 - val_loss: 0.2159 - val_acc: 0.9435\n",
            "Epoch 25/30\n",
            "85/85 [==============================] - 0s 2ms/step - loss: 0.2506 - acc: 0.9093 - val_loss: 0.2151 - val_acc: 0.9435\n",
            "Epoch 26/30\n",
            "85/85 [==============================] - 0s 2ms/step - loss: 0.2494 - acc: 0.9119 - val_loss: 0.2116 - val_acc: 0.9435\n",
            "Epoch 27/30\n",
            "85/85 [==============================] - 0s 2ms/step - loss: 0.2480 - acc: 0.9108 - val_loss: 0.2103 - val_acc: 0.9435\n",
            "Epoch 28/30\n",
            "85/85 [==============================] - 0s 2ms/step - loss: 0.2471 - acc: 0.9123 - val_loss: 0.2083 - val_acc: 0.9269\n",
            "Epoch 29/30\n",
            "85/85 [==============================] - 0s 2ms/step - loss: 0.2470 - acc: 0.9134 - val_loss: 0.2071 - val_acc: 0.9435\n",
            "Epoch 30/30\n",
            "85/85 [==============================] - 0s 2ms/step - loss: 0.2456 - acc: 0.9119 - val_loss: 0.2052 - val_acc: 0.9435\n"
          ]
        }
      ]
    },
    {
      "cell_type": "markdown",
      "source": [
        "# Loss Curve and Accuracy Curve"
      ],
      "metadata": {
        "id": "OQ86Jx4RW6HI"
      }
    },
    {
      "cell_type": "code",
      "source": [
        "plt.plot(history.history['acc'])\n",
        "plt.plot(history.history['val_acc'])\n",
        "plt.title('model accuracy')\n",
        "plt.ylabel('accuracy')\n",
        "plt.xlabel('epoch')\n",
        "plt.legend(['train', 'validation'], loc='upper right')\n",
        "plt.show()"
      ],
      "metadata": {
        "colab": {
          "base_uri": "https://localhost:8080/",
          "height": 295
        },
        "id": "lkCb1Sd3W7Di",
        "outputId": "cbdad567-637b-4cbf-c4a2-fc2a8331b5c7"
      },
      "execution_count": 158,
      "outputs": [
        {
          "output_type": "display_data",
          "data": {
            "text/plain": [
              "<Figure size 432x288 with 1 Axes>"
            ],
            "image/png": "[encoded data removed]"
          },
          "metadata": {
            "needs_background": "light"
          }
        }
      ]
    },
    {
      "cell_type": "code",
      "source": [
        "plt.plot(history.history['loss'])\n",
        "plt.plot(history.history['val_loss'])\n",
        "plt.title('model loss')\n",
        "plt.ylabel('loss')\n",
        "plt.xlabel('epoch')\n",
        "plt.legend(['train', 'validation'], loc='upper right')\n",
        "plt.show()"
      ],
      "metadata": {
        "colab": {
          "base_uri": "https://localhost:8080/",
          "height": 295
        },
        "id": "nG0hPDSGXB3t",
        "outputId": "cabc597d-5ce9-406c-db19-1c065bf1e390"
      },
      "execution_count": 159,
      "outputs": [
        {
          "output_type": "display_data",
          "data": {
            "text/plain": [
              "<Figure size 432x288 with 1 Axes>"
            ],
            "image/png": "[encoded data removed]"
          },
          "metadata": {
            "needs_background": "light"
          }
        }
      ]
    },
    {
      "cell_type": "markdown",
      "source": [
        "# Saving the best model"
      ],
      "metadata": {
        "id": "ed7WzEZ5XJRo"
      }
    },
    {
      "cell_type": "code",
      "source": [
        "\n",
        "\n",
        "import pickle\n",
        "pickle.dump(clf_rf, open('model_file.pkl', 'wb'))\n",
        "\n"
      ],
      "metadata": {
        "id": "ZnRQXct7XKIY"
      },
      "execution_count": 160,
      "outputs": []
    },
    {
      "cell_type": "code",
      "source": [
        "\n",
        "\n",
        "pickled_model = pickle.load(open('model_file.pkl', 'rb'))\n",
        "\n"
      ],
      "metadata": {
        "id": "RyukPrIQXT47"
      },
      "execution_count": 161,
      "outputs": []
    },
    {
      "cell_type": "markdown",
      "source": [
        "# Get prediction from user input"
      ],
      "metadata": {
        "id": "NHqXEv-0XYL6"
      }
    },
    {
      "cell_type": "code",
      "source": [
        "\n",
        "\n",
        "X_new = np.array([[1,0,0,0,1,1,1,1]])\n",
        "\n"
      ],
      "metadata": {
        "id": "-kAsVNN7XZFr"
      },
      "execution_count": 162,
      "outputs": []
    },
    {
      "cell_type": "code",
      "source": [
        "\n",
        "\n",
        "print(pickled_model.predict(X_new)[0])\n",
        "\n"
      ],
      "metadata": {
        "colab": {
          "base_uri": "https://localhost:8080/"
        },
        "id": "n0yPmzBmXeP3",
        "outputId": "5faf30aa-8507-48ed-90ae-861080d00bf6"
      },
      "execution_count": 163,
      "outputs": [
        {
          "output_type": "stream",
          "name": "stdout",
          "text": [
            "Intermediate\n"
          ]
        },
        {
          "output_type": "stream",
          "name": "stderr",
          "text": [
            "/usr/local/lib/python3.8/dist-packages/sklearn/base.py:450: UserWarning: X does not have valid feature names, but RandomForestClassifier was fitted with feature names\n",
            "  warnings.warn(\n"
          ]
        }
      ]
    },
    {
      "cell_type": "markdown",
      "source": [],
      "metadata": {
        "id": "qleTTQbfaNwz"
      }
    }
  ]
}