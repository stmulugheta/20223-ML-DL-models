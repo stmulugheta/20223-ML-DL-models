{
  "nbformat": 4,
  "nbformat_minor": 0,
  "metadata": {
    "colab": {
      "private_outputs": true,
      "provenance": [],
      "authorship_tag": "ABX9TyMKqbPu+JbYjOCxH3GxjJUE",
      "include_colab_link": true
    },
    "kernelspec": {
      "name": "python3",
      "display_name": "Python 3"
    },
    "language_info": {
      "name": "python"
    }
  },
  "cells": [
    {
      "cell_type": "markdown",
      "metadata": {
        "id": "view-in-github",
        "colab_type": "text"
      },
      "source": [
        "<a href=\"https://colab.research.google.com/github/stmulugheta/20223-ML-DL-models/blob/master/Personal_Development.ipynb\" target=\"_parent\"><img src=\"https://colab.research.google.com/assets/colab-badge.svg\" alt=\"Open In Colab\"/></a>"
      ]
    },
    {
      "cell_type": "code",
      "execution_count": null,
      "metadata": {
        "id": "YjIxqjXDQdBk"
      },
      "outputs": [],
      "source": []
    },
    {
      "cell_type": "markdown",
      "source": [
        "Here are some of the best resources to upskill yourself 👇\n",
        "\n",
        "\n",
        "𝗠𝗮𝗰𝗵𝗶𝗻𝗲 𝗟𝗲𝗮𝗿𝗻𝗶𝗻𝗴\n",
        "1-Introduction to Machine Learning (https://lnkd.in/ecqatZBA)\n",
        "2-Stanford CS229: Machine Learning (https://lnkd.in/exNpHVgK)\n",
        "3-Making Friends with Machine Learning (https://lnkd.in/ejM83n2B)\n",
        "4-Applied Machine Learning (https://lnkd.in/eBPxJriR)\n",
        "5-Statistical Machine Learning (https://lnkd.in/eszaHhnn)\n",
        "6-Neural Networks: Zero to Hero (https://lnkd.in/eHyXfdMY)\n",
        "\n",
        "\n",
        "𝗗𝗲𝗲𝗽 𝗟𝗲𝗮𝗿𝗻𝗶𝗻𝗴\n",
        "1-Introduction to Deep Learning (MIT) (https://lnkd.in/eh7wTzbq)\n",
        "2-CMU Introduction to Deep Learning\n",
        "🌀https://lnkd.in/eCF92CDW\n",
        "3-MIT: Deep Learning for Art, Aesthetics, and Creativity\n",
        "🌀https://lnkd.in/eURJKHUS\n",
        "4-Stanford Deep Learning\n",
        "🌀https://lnkd.in/e6fWv3R8\n",
        "5-Introduction to Deep Learning (MIT)\n",
        "🌀https://lnkd.in/eh7wTzbq\n",
        "6-CMU Introduction to Deep Learning\n",
        "🌀https://lnkd.in/eCF92CDW\n",
        "7-Deep Unsupervised Learning\n",
        "🌀https://lnkd.in/eB2sacxY\n",
        "8-NYU Deep Learning SP21\n",
        "🌀https://lnkd.in/eMNsFmBe\n",
        "9-Foundation Models \n",
        "🌀https://lnkd.in/emPfE-MS\n",
        "10-Full Stack Deep Learning\n",
        "🌀https://lnkd.in/edbFQZBX\n",
        "11-Practical Deep Learning for Coders\n",
        "🌀https://lnkd.in/eMjrFESY\n",
        "12-Machine Learning Engineering for Production (MLOps)\n",
        "🌀https://lnkd.in/enmaT8Yy\n",
        "\n",
        "\n",
        "\n",
        "\n",
        "𝗔𝗿𝘁𝗶𝗳𝗶𝗰𝗶𝗮𝗹 𝗜𝗻𝘁𝗲𝗹𝗹𝗶𝗴𝗲𝗻𝗰𝗲\n",
        "1-NLP Course (Hugging Face)\n",
        "🌀https://lnkd.in/ehhG4S_2\n",
        "2-Natural Language Understanding\n",
        "🌀https://lnkd.in/emVV8CfA\n",
        "3-CMU Advanced NLP 2022\n",
        "🌀https://lnkd.in/eXenh9pm\n",
        "4-Multilingual NLP\n",
        "🌀https://lnkd.in/eu46qy8V\n",
        "5-Advanced NLP\n",
        "🌀https://lnkd.in/ggpQAD6\n",
        "\n",
        "\n",
        "\n",
        "\n",
        "1-Deep Learning for Computer Vision\n",
        "🌀https://lnkd.in/eMk3kWSz\n",
        "\n",
        "\n",
        "\n",
        "\n",
        "1-Deep Reinforcement Learning\n",
        "🌀https://lnkd.in/e6gyvp4s\n",
        "2-Stanford: Reinforcement Learning\n",
        "🌀https://lnkd.in/eGR-5THW\n",
        "\n",
        "\n",
        "Like 👍 and Follow Bemnet Girma for data science content!!\n",
        "\n",
        "\n",
        "Save this for future prospective ✅\n",
        "\n",
        "\n",
        "All thanks to Steve Nouri\n",
        "\n",
        "\n",
        "Gif Credit: Medium\n",
        "\n",
        "\n",
        "#machinelearnig #computervision #deeplearning #nlp # #learning #datascience #artificialintelligence #ai\n",
        "\n",
        "\n"
      ],
      "metadata": {
        "id": "vALyuodAQivq"
      }
    },
    {
      "cell_type": "markdown",
      "source": [],
      "metadata": {
        "id": "ljFLn_1CQh_q"
      }
    }
  ]
}