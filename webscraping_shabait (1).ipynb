{
 "cells": [
  {
   "cell_type": "markdown",
   "id": "60fc7ed2",
   "metadata": {},
   "source": [
    "# WebScraping for \"https://shabait.com\"\n",
    "\n",
    "Initial support: Maria Fisher: roubadilhar = I have created this work from Portugues roubar (still) + compartilhar (share) = RoubaDilhar 3:-) "
   ]
  },
  {
   "cell_type": "markdown",
   "id": "a2d1965a",
   "metadata": {},
   "source": [
    "I have roubadilhado* this codes from this tutorial (author : Jawakar)\n",
    "https://medium.com/@jawakarselvavinayagam/scrape-data-from-web-to-csv-in-minutes-dfbaa1e8775d"
   ]
  },
  {
   "cell_type": "markdown",
   "id": "75fe0599",
   "metadata": {},
   "source": [
    "# importning Libraries"
   ]
  },
  {
   "cell_type": "code",
   "execution_count": 1,
   "id": "1b814b31",
   "metadata": {},
   "outputs": [],
   "source": [
    "!pip install autoscraper\n",
    "!pip install pandas\n",
    "\n"
   ]
  },
  {
   "cell_type": "code",
   "execution_count": 2,
   "id": "6400071e",
   "metadata": {},
   "outputs": [],
   "source": [
    "from autoscraper import AutoScraper"
   ]
  },
  {
   "cell_type": "code",
   "execution_count": 3,
   "id": "7c8bc1e1",
   "metadata": {},
   "outputs": [],
   "source": [
    "shabait = \"https://shabait.com/\"\n",
    "wanted_list = ['Recent Posts ' ]"
   ]
  },
  {
   "cell_type": "code",
   "execution_count": 4,
   "id": "86b9a9e5",
   "metadata": {},
   "outputs": [
    {
     "data": {
      "text/plain": [
       "['Recent Posts ']"
      ]
     },
     "execution_count": 4,
     "metadata": {},
     "output_type": "execute_result"
    }
   ],
   "source": [
    "wanted_list"
   ]
  },
  {
   "cell_type": "code",
   "execution_count": 16,
   "id": "6aba39a8",
   "metadata": {},
   "outputs": [
    {
     "name": "stdout",
     "output_type": "stream",
     "text": [
      "{'rule_h2zn': ['Recent Posts', 'Newspaper - Haddas Ertra', 'Newspapers - Eritrea Haddas', 'Newspapers - Eritrea Alhaditha', 'Newspapers - Eritrea Profile', 'Recent Posts'], 'rule_p1y2': ['Recent Posts', 'Newspaper - Haddas Ertra', 'Newspapers - Eritrea Haddas', 'Newspapers - Eritrea Alhaditha', 'Newspapers - Eritrea Profile', 'Recent Posts']}\n"
     ]
    }
   ],
   "source": [
    "scraper = AutoScraper()\n",
    "result = scraper.build(shabait, wanted_list)\n",
    "data = scraper.get_result_similar(shabait, grouped=True)\n",
    "print(data)"
   ]
  },
  {
   "cell_type": "markdown",
   "id": "57e77abf",
   "metadata": {},
   "source": [
    " Python dictionary with dynamically assigned keys\n",
    "{'rule_rxxa': ['Recent'], 'rule_5s6n': ['Categories']}\n"
   ]
  },
  {
   "cell_type": "code",
   "execution_count": 17,
   "id": "9ce0d047",
   "metadata": {},
   "outputs": [
    {
     "name": "stdout",
     "output_type": "stream",
     "text": [
      "['rule_h2zn', 'rule_p1y2']\n"
     ]
    }
   ],
   "source": [
    "key = list(data.keys())\n",
    "print(key)\n",
    "#output\n",
    "{'rule_3no9': ['Recent Posts', 'Newspaper - Haddas Ertra', 'Newspapers - Eritrea Haddas', 'Newspapers - Eritrea Alhaditha', 'Newspapers - Eritrea Profile', 'Recent Posts'], 'rule_d5xd': ['Recent Posts', 'Newspaper - Haddas Ertra', 'Newspapers - Eritrea Haddas', 'Newspapers - Eritrea Alhaditha', 'Newspapers - Eritrea Profile', 'Recent Posts']}\n",
    "scraper.save('shabait')"
   ]
  },
  {
   "cell_type": "code",
   "execution_count": 18,
   "id": "748114ee",
   "metadata": {},
   "outputs": [],
   "source": [
    "# Give it a file path\n",
    "scraper.save('shabait')"
   ]
  },
  {
   "cell_type": "code",
   "execution_count": 19,
   "id": "628dfdb4",
   "metadata": {},
   "outputs": [],
   "source": [
    "# specify the path\n",
    "scraper.load(\"shabait\")\n",
    "result = scraper.get_result_similar(\"https://shabait.com/\", group_by_alias=True)"
   ]
  },
  {
   "cell_type": "code",
   "execution_count": 20,
   "id": "4e418365",
   "metadata": {},
   "outputs": [
    {
     "data": {
      "text/plain": [
       "{'': ['Recent Posts',\n",
       "  'Recent Posts',\n",
       "  'Newspaper - Haddas Ertra',\n",
       "  'Newspaper - Haddas Ertra',\n",
       "  'Newspapers - Eritrea Haddas',\n",
       "  'Newspapers - Eritrea Haddas',\n",
       "  'Newspapers - Eritrea Alhaditha',\n",
       "  'Newspapers - Eritrea Alhaditha',\n",
       "  'Newspapers - Eritrea Profile',\n",
       "  'Newspapers - Eritrea Profile',\n",
       "  'Recent Posts',\n",
       "  'Recent Posts']}"
      ]
     },
     "execution_count": 20,
     "metadata": {},
     "output_type": "execute_result"
    }
   ],
   "source": [
    "result"
   ]
  },
  {
   "cell_type": "code",
   "execution_count": 24,
   "id": "319944a7",
   "metadata": {},
   "outputs": [],
   "source": [
    "#!pip install pandas"
   ]
  },
  {
   "cell_type": "code",
   "execution_count": 23,
   "id": "d6eaeb90",
   "metadata": {},
   "outputs": [],
   "source": [
    "import pandas as pd\n",
    "\n",
    "df = pd.DataFrame(dict([ (k,pd.Series(v)) for k,v in result.items() ]))\n",
    "# Converting our DataFrame to CSV file\n",
    "df.to_csv('shabait.csv')"
   ]
  },
  {
   "cell_type": "code",
   "execution_count": 25,
   "id": "336a7841",
   "metadata": {
    "scrolled": true
   },
   "outputs": [
    {
     "data": {
      "text/html": [
       "<div>\n",
       "<style scoped>\n",
       "    .dataframe tbody tr th:only-of-type {\n",
       "        vertical-align: middle;\n",
       "    }\n",
       "\n",
       "    .dataframe tbody tr th {\n",
       "        vertical-align: top;\n",
       "    }\n",
       "\n",
       "    .dataframe thead th {\n",
       "        text-align: right;\n",
       "    }\n",
       "</style>\n",
       "<table border=\"1\" class=\"dataframe\">\n",
       "  <thead>\n",
       "    <tr style=\"text-align: right;\">\n",
       "      <th></th>\n",
       "      <th></th>\n",
       "    </tr>\n",
       "  </thead>\n",
       "  <tbody>\n",
       "    <tr>\n",
       "      <th>0</th>\n",
       "      <td>Recent Posts</td>\n",
       "    </tr>\n",
       "    <tr>\n",
       "      <th>1</th>\n",
       "      <td>Recent Posts</td>\n",
       "    </tr>\n",
       "    <tr>\n",
       "      <th>2</th>\n",
       "      <td>Newspaper - Haddas Ertra</td>\n",
       "    </tr>\n",
       "    <tr>\n",
       "      <th>3</th>\n",
       "      <td>Newspaper - Haddas Ertra</td>\n",
       "    </tr>\n",
       "    <tr>\n",
       "      <th>4</th>\n",
       "      <td>Newspapers - Eritrea Haddas</td>\n",
       "    </tr>\n",
       "    <tr>\n",
       "      <th>5</th>\n",
       "      <td>Newspapers - Eritrea Haddas</td>\n",
       "    </tr>\n",
       "    <tr>\n",
       "      <th>6</th>\n",
       "      <td>Newspapers - Eritrea Alhaditha</td>\n",
       "    </tr>\n",
       "    <tr>\n",
       "      <th>7</th>\n",
       "      <td>Newspapers - Eritrea Alhaditha</td>\n",
       "    </tr>\n",
       "    <tr>\n",
       "      <th>8</th>\n",
       "      <td>Newspapers - Eritrea Profile</td>\n",
       "    </tr>\n",
       "    <tr>\n",
       "      <th>9</th>\n",
       "      <td>Newspapers - Eritrea Profile</td>\n",
       "    </tr>\n",
       "  </tbody>\n",
       "</table>\n",
       "</div>"
      ],
      "text/plain": [
       "                                 \n",
       "0                    Recent Posts\n",
       "1                    Recent Posts\n",
       "2        Newspaper - Haddas Ertra\n",
       "3        Newspaper - Haddas Ertra\n",
       "4     Newspapers - Eritrea Haddas\n",
       "5     Newspapers - Eritrea Haddas\n",
       "6  Newspapers - Eritrea Alhaditha\n",
       "7  Newspapers - Eritrea Alhaditha\n",
       "8    Newspapers - Eritrea Profile\n",
       "9    Newspapers - Eritrea Profile"
      ]
     },
     "execution_count": 25,
     "metadata": {},
     "output_type": "execute_result"
    }
   ],
   "source": [
    "df.head(10)"
   ]
  },
  {
   "cell_type": "code",
   "execution_count": 26,
   "id": "7a25892f",
   "metadata": {
    "scrolled": true
   },
   "outputs": [
    {
     "data": {
      "text/html": [
       "<div>\n",
       "<style scoped>\n",
       "    .dataframe tbody tr th:only-of-type {\n",
       "        vertical-align: middle;\n",
       "    }\n",
       "\n",
       "    .dataframe tbody tr th {\n",
       "        vertical-align: top;\n",
       "    }\n",
       "\n",
       "    .dataframe thead th {\n",
       "        text-align: right;\n",
       "    }\n",
       "</style>\n",
       "<table border=\"1\" class=\"dataframe\">\n",
       "  <thead>\n",
       "    <tr style=\"text-align: right;\">\n",
       "      <th></th>\n",
       "      <th></th>\n",
       "    </tr>\n",
       "  </thead>\n",
       "  <tbody>\n",
       "    <tr>\n",
       "      <th>2</th>\n",
       "      <td>Newspaper - Haddas Ertra</td>\n",
       "    </tr>\n",
       "    <tr>\n",
       "      <th>3</th>\n",
       "      <td>Newspaper - Haddas Ertra</td>\n",
       "    </tr>\n",
       "    <tr>\n",
       "      <th>4</th>\n",
       "      <td>Newspapers - Eritrea Haddas</td>\n",
       "    </tr>\n",
       "    <tr>\n",
       "      <th>5</th>\n",
       "      <td>Newspapers - Eritrea Haddas</td>\n",
       "    </tr>\n",
       "    <tr>\n",
       "      <th>6</th>\n",
       "      <td>Newspapers - Eritrea Alhaditha</td>\n",
       "    </tr>\n",
       "    <tr>\n",
       "      <th>7</th>\n",
       "      <td>Newspapers - Eritrea Alhaditha</td>\n",
       "    </tr>\n",
       "    <tr>\n",
       "      <th>8</th>\n",
       "      <td>Newspapers - Eritrea Profile</td>\n",
       "    </tr>\n",
       "    <tr>\n",
       "      <th>9</th>\n",
       "      <td>Newspapers - Eritrea Profile</td>\n",
       "    </tr>\n",
       "    <tr>\n",
       "      <th>10</th>\n",
       "      <td>Recent Posts</td>\n",
       "    </tr>\n",
       "    <tr>\n",
       "      <th>11</th>\n",
       "      <td>Recent Posts</td>\n",
       "    </tr>\n",
       "  </tbody>\n",
       "</table>\n",
       "</div>"
      ],
      "text/plain": [
       "                                  \n",
       "2         Newspaper - Haddas Ertra\n",
       "3         Newspaper - Haddas Ertra\n",
       "4      Newspapers - Eritrea Haddas\n",
       "5      Newspapers - Eritrea Haddas\n",
       "6   Newspapers - Eritrea Alhaditha\n",
       "7   Newspapers - Eritrea Alhaditha\n",
       "8     Newspapers - Eritrea Profile\n",
       "9     Newspapers - Eritrea Profile\n",
       "10                    Recent Posts\n",
       "11                    Recent Posts"
      ]
     },
     "execution_count": 26,
     "metadata": {},
     "output_type": "execute_result"
    }
   ],
   "source": [
    "df.tail(10)"
   ]
  },
  {
   "cell_type": "code",
   "execution_count": 20,
   "id": "e9d0ceb5",
   "metadata": {},
   "outputs": [
    {
     "name": "stdout",
     "output_type": "stream",
     "text": [
      "<class 'pandas.core.frame.DataFrame'>\n",
      "RangeIndex: 12 entries, 0 to 11\n",
      "Data columns (total 1 columns):\n",
      " #   Column  Non-Null Count  Dtype \n",
      "---  ------  --------------  ----- \n",
      " 0           12 non-null     object\n",
      "dtypes: object(1)\n",
      "memory usage: 224.0+ bytes\n"
     ]
    }
   ],
   "source": [
    "df.info()"
   ]
  },
  {
   "cell_type": "code",
   "execution_count": 21,
   "id": "cc2941c1",
   "metadata": {},
   "outputs": [
    {
     "data": {
      "text/html": [
       "<div>\n",
       "<style scoped>\n",
       "    .dataframe tbody tr th:only-of-type {\n",
       "        vertical-align: middle;\n",
       "    }\n",
       "\n",
       "    .dataframe tbody tr th {\n",
       "        vertical-align: top;\n",
       "    }\n",
       "\n",
       "    .dataframe thead th {\n",
       "        text-align: right;\n",
       "    }\n",
       "</style>\n",
       "<table border=\"1\" class=\"dataframe\">\n",
       "  <thead>\n",
       "    <tr style=\"text-align: right;\">\n",
       "      <th></th>\n",
       "      <th></th>\n",
       "    </tr>\n",
       "  </thead>\n",
       "  <tbody>\n",
       "    <tr>\n",
       "      <th>count</th>\n",
       "      <td>12</td>\n",
       "    </tr>\n",
       "    <tr>\n",
       "      <th>unique</th>\n",
       "      <td>5</td>\n",
       "    </tr>\n",
       "    <tr>\n",
       "      <th>top</th>\n",
       "      <td>Recent Posts</td>\n",
       "    </tr>\n",
       "    <tr>\n",
       "      <th>freq</th>\n",
       "      <td>4</td>\n",
       "    </tr>\n",
       "  </tbody>\n",
       "</table>\n",
       "</div>"
      ],
      "text/plain": [
       "                    \n",
       "count             12\n",
       "unique             5\n",
       "top     Recent Posts\n",
       "freq               4"
      ]
     },
     "execution_count": 21,
     "metadata": {},
     "output_type": "execute_result"
    }
   ],
   "source": [
    "df.describe()"
   ]
  },
  {
   "cell_type": "markdown",
   "id": "f218233e",
   "metadata": {},
   "source": [
    "# To be continued according to the need"
   ]
  },
  {
   "cell_type": "code",
   "execution_count": null,
   "id": "230fbb55",
   "metadata": {},
   "outputs": [],
   "source": []
  },
  {
   "cell_type": "markdown",
   "id": "1671dcc7",
   "metadata": {},
   "source": []
  }
 ],
 "metadata": {
  "kernelspec": {
   "display_name": "Python 3 (ipykernel)",
   "language": "python",
   "name": "python3"
  },
  "language_info": {
   "codemirror_mode": {
    "name": "ipython",
    "version": 3
   },
   "file_extension": ".py",
   "mimetype": "text/x-python",
   "name": "python",
   "nbconvert_exporter": "python",
   "pygments_lexer": "ipython3",
   "version": "3.9.7"
  },
  "vscode": {
   "interpreter": {
    "hash": "3ee21ed62f19d1cd1bff4fa7173a59e6ad481596d1bae72510cd990aa768afda"
   }
  }
 },
 "nbformat": 4,
 "nbformat_minor": 5
}
