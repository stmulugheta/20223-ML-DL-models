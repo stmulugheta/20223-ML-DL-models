{
  "cells": [
    {
      "cell_type": "markdown",
      "metadata": {
        "id": "view-in-github",
        "colab_type": "text"
      },
      "source": [
        "<a href=\"https://colab.research.google.com/github/stmulugheta/20223-ML-DL-models/blob/master/webscraping_shabait.ipynb\" target=\"_parent\"><img src=\"https://colab.research.google.com/assets/colab-badge.svg\" alt=\"Open In Colab\"/></a>"
      ]
    },
    {
      "cell_type": "markdown",
      "id": "60fc7ed2",
      "metadata": {
        "id": "60fc7ed2"
      },
      "source": [
        "# WebScraping for \"https://shabait.com\"\n",
        "\n",
        "Initial support: Maria Fisher: roubadilhar = I have created this work from Portugues roubar (still) + compartilhar (share) = RoubaDilhar 3:-) "
      ]
    },
    {
      "cell_type": "markdown",
      "id": "a2d1965a",
      "metadata": {
        "id": "a2d1965a"
      },
      "source": [
        "I have roubadilhado* this codes from this tutorial (author : Jawakar)\n",
        "https://medium.com/@jawakarselvavinayagam/scrape-data-from-web-to-csv-in-minutes-dfbaa1e8775d"
      ]
    },
    {
      "cell_type": "markdown",
      "id": "75fe0599",
      "metadata": {
        "id": "75fe0599"
      },
      "source": [
        "# importning Libraries"
      ]
    },
    {
      "cell_type": "code",
      "execution_count": 3,
      "id": "1b814b31",
      "metadata": {
        "id": "1b814b31"
      },
      "outputs": [],
      "source": [
        "#!pip install autoscraper\n",
        "#!pip install pandas\n",
        "#! pip install git+https://github.com/openai/whisper.git"
      ]
    },
    {
      "cell_type": "code",
      "source": [
        "\n",
        "import io\n",
        "import os\n",
        "import numpy as np\n",
        "\n",
        "try:\n",
        "    import tensorflow  # required in Colab to avoid protobuf compatibility issues\n",
        "except ImportError:\n",
        "    pass\n",
        "\n",
        "import torch\n",
        "import pandas as pd\n",
        "import urllib\n",
        "import tarfile\n",
        "import whisper\n",
        "import torchaudio\n",
        "\n",
        "from scipy.io import wavfile\n",
        "from tqdm.notebook import tqdm\n",
        "\n",
        "\n",
        "pd.options.display.max_rows = 100\n",
        "pd.options.display.max_colwidth = 1000\n",
        "DEVICE = \"cuda\" if torch.cuda.is_available() else \"cpu\""
      ],
      "metadata": {
        "id": "3ITVSe5156qd"
      },
      "id": "3ITVSe5156qd",
      "execution_count": 7,
      "outputs": []
    },
    {
      "cell_type": "code",
      "execution_count": 8,
      "id": "6400071e",
      "metadata": {
        "id": "6400071e"
      },
      "outputs": [],
      "source": [
        "from autoscraper import AutoScraper"
      ]
    },
    {
      "cell_type": "code",
      "execution_count": 9,
      "id": "7c8bc1e1",
      "metadata": {
        "id": "7c8bc1e1"
      },
      "outputs": [],
      "source": [
        "shabait = \"https://shabait.com/\"\n",
        "wanted_list = ['Recent Posts ' ]"
      ]
    },
    {
      "cell_type": "code",
      "execution_count": 10,
      "id": "86b9a9e5",
      "metadata": {
        "id": "86b9a9e5",
        "outputId": "4d95af92-77bd-4760-83e8-beb66a388b61",
        "colab": {
          "base_uri": "https://localhost:8080/"
        }
      },
      "outputs": [
        {
          "output_type": "execute_result",
          "data": {
            "text/plain": [
              "['Recent Posts ']"
            ]
          },
          "metadata": {},
          "execution_count": 10
        }
      ],
      "source": [
        "wanted_list"
      ]
    },
    {
      "cell_type": "code",
      "execution_count": 11,
      "id": "6aba39a8",
      "metadata": {
        "id": "6aba39a8",
        "outputId": "119536ed-af67-4fbf-bc35-a497852fab24",
        "colab": {
          "base_uri": "https://localhost:8080/"
        }
      },
      "outputs": [
        {
          "output_type": "stream",
          "name": "stdout",
          "text": [
            "{'rule_tiwx': ['Recent Posts', 'Newspaper - Haddas Ertra', 'Newspapers - Eritrea Haddas', 'Newspapers - Eritrea Alhaditha', 'Newspapers - Eritrea Profile', 'Recent Posts'], 'rule_wd9p': ['Recent Posts', 'Newspaper - Haddas Ertra', 'Newspapers - Eritrea Haddas', 'Newspapers - Eritrea Alhaditha', 'Newspapers - Eritrea Profile', 'Stay With Us', 'Recent Posts']}\n"
          ]
        }
      ],
      "source": [
        "scraper = AutoScraper()\n",
        "result = scraper.build(shabait, wanted_list)\n",
        "data = scraper.get_result_similar(shabait, grouped=True)\n",
        "print(data)"
      ]
    },
    {
      "cell_type": "markdown",
      "id": "57e77abf",
      "metadata": {
        "id": "57e77abf"
      },
      "source": [
        " Python dictionary with dynamically assigned keys\n",
        "{'rule_rxxa': ['Recent'], 'rule_5s6n': ['Categories']}\n"
      ]
    },
    {
      "cell_type": "code",
      "execution_count": 12,
      "id": "9ce0d047",
      "metadata": {
        "id": "9ce0d047",
        "outputId": "6f35adb2-9d38-454a-8dac-edd0d3c86675",
        "colab": {
          "base_uri": "https://localhost:8080/"
        }
      },
      "outputs": [
        {
          "output_type": "stream",
          "name": "stdout",
          "text": [
            "['rule_tiwx', 'rule_wd9p']\n"
          ]
        }
      ],
      "source": [
        "key = list(data.keys())\n",
        "print(key)\n",
        "#output\n",
        "{'rule_3no9': ['Recent Posts', 'Newspaper - Haddas Ertra', 'Newspapers - Eritrea Haddas', 'Newspapers - Eritrea Alhaditha', 'Newspapers - Eritrea Profile', 'Recent Posts'], 'rule_d5xd': ['Recent Posts', 'Newspaper - Haddas Ertra', 'Newspapers - Eritrea Haddas', 'Newspapers - Eritrea Alhaditha', 'Newspapers - Eritrea Profile', 'Recent Posts']}\n",
        "scraper.save('shabait')"
      ]
    },
    {
      "cell_type": "code",
      "execution_count": 13,
      "id": "748114ee",
      "metadata": {
        "id": "748114ee"
      },
      "outputs": [],
      "source": [
        "# Give it a file path\n",
        "scraper.save('shabait')"
      ]
    },
    {
      "cell_type": "code",
      "execution_count": 14,
      "id": "628dfdb4",
      "metadata": {
        "id": "628dfdb4"
      },
      "outputs": [],
      "source": [
        "# specify the path\n",
        "scraper.load(\"shabait\")\n",
        "result = scraper.get_result_similar(\"https://shabait.com/\", group_by_alias=True)"
      ]
    },
    {
      "cell_type": "code",
      "execution_count": null,
      "id": "4e418365",
      "metadata": {
        "id": "4e418365",
        "outputId": "c2a36a3f-a749-4370-e504-0b88bb4bad92",
        "colab": {
          "base_uri": "https://localhost:8080/"
        }
      },
      "outputs": [
        {
          "output_type": "execute_result",
          "data": {
            "text/plain": [
              "{'': ['Recent Posts',\n",
              "  'Recent Posts',\n",
              "  'Newspaper - Haddas Ertra',\n",
              "  'Newspaper - Haddas Ertra',\n",
              "  'Newspapers - Eritrea Haddas',\n",
              "  'Newspapers - Eritrea Haddas',\n",
              "  'Newspapers - Eritrea Alhaditha',\n",
              "  'Newspapers - Eritrea Alhaditha',\n",
              "  'Newspapers - Eritrea Profile',\n",
              "  'Newspapers - Eritrea Profile',\n",
              "  'Stay With Us',\n",
              "  'Recent Posts',\n",
              "  'Recent Posts']}"
            ]
          },
          "metadata": {},
          "execution_count": 9
        }
      ],
      "source": [
        "result"
      ]
    },
    {
      "cell_type": "code",
      "execution_count": 15,
      "id": "319944a7",
      "metadata": {
        "id": "319944a7"
      },
      "outputs": [],
      "source": [
        "#!pip install pandas"
      ]
    },
    {
      "cell_type": "code",
      "execution_count": 16,
      "id": "d6eaeb90",
      "metadata": {
        "id": "d6eaeb90"
      },
      "outputs": [],
      "source": [
        "import pandas as pd\n",
        "\n",
        "df = pd.DataFrame(dict([ (k,pd.Series(v)) for k,v in result.items() ]))\n",
        "# Converting our DataFrame to CSV file\n",
        "df.to_csv('shabait.csv')"
      ]
    },
    {
      "cell_type": "code",
      "execution_count": 17,
      "id": "336a7841",
      "metadata": {
        "scrolled": true,
        "id": "336a7841",
        "outputId": "abe519bf-5b96-4ba6-8d51-7dd2a6c2328a",
        "colab": {
          "base_uri": "https://localhost:8080/",
          "height": 346
        }
      },
      "outputs": [
        {
          "output_type": "execute_result",
          "data": {
            "text/plain": [
              "                                 \n",
              "0                    Recent Posts\n",
              "1                    Recent Posts\n",
              "2        Newspaper - Haddas Ertra\n",
              "3        Newspaper - Haddas Ertra\n",
              "4     Newspapers - Eritrea Haddas\n",
              "5     Newspapers - Eritrea Haddas\n",
              "6  Newspapers - Eritrea Alhaditha\n",
              "7  Newspapers - Eritrea Alhaditha\n",
              "8    Newspapers - Eritrea Profile\n",
              "9    Newspapers - Eritrea Profile"
            ],
            "text/html": [
              "\n",
              "  <div id=\"df-9e078187-989b-40cc-9768-c4640ad2cd32\">\n",
              "    <div class=\"colab-df-container\">\n",
              "      <div>\n",
              "<style scoped>\n",
              "    .dataframe tbody tr th:only-of-type {\n",
              "        vertical-align: middle;\n",
              "    }\n",
              "\n",
              "    .dataframe tbody tr th {\n",
              "        vertical-align: top;\n",
              "    }\n",
              "\n",
              "    .dataframe thead th {\n",
              "        text-align: right;\n",
              "    }\n",
              "</style>\n",
              "<table border=\"1\" class=\"dataframe\">\n",
              "  <thead>\n",
              "    <tr style=\"text-align: right;\">\n",
              "      <th></th>\n",
              "      <th></th>\n",
              "    </tr>\n",
              "  </thead>\n",
              "  <tbody>\n",
              "    <tr>\n",
              "      <th>0</th>\n",
              "      <td>Recent Posts</td>\n",
              "    </tr>\n",
              "    <tr>\n",
              "      <th>1</th>\n",
              "      <td>Recent Posts</td>\n",
              "    </tr>\n",
              "    <tr>\n",
              "      <th>2</th>\n",
              "      <td>Newspaper - Haddas Ertra</td>\n",
              "    </tr>\n",
              "    <tr>\n",
              "      <th>3</th>\n",
              "      <td>Newspaper - Haddas Ertra</td>\n",
              "    </tr>\n",
              "    <tr>\n",
              "      <th>4</th>\n",
              "      <td>Newspapers - Eritrea Haddas</td>\n",
              "    </tr>\n",
              "    <tr>\n",
              "      <th>5</th>\n",
              "      <td>Newspapers - Eritrea Haddas</td>\n",
              "    </tr>\n",
              "    <tr>\n",
              "      <th>6</th>\n",
              "      <td>Newspapers - Eritrea Alhaditha</td>\n",
              "    </tr>\n",
              "    <tr>\n",
              "      <th>7</th>\n",
              "      <td>Newspapers - Eritrea Alhaditha</td>\n",
              "    </tr>\n",
              "    <tr>\n",
              "      <th>8</th>\n",
              "      <td>Newspapers - Eritrea Profile</td>\n",
              "    </tr>\n",
              "    <tr>\n",
              "      <th>9</th>\n",
              "      <td>Newspapers - Eritrea Profile</td>\n",
              "    </tr>\n",
              "  </tbody>\n",
              "</table>\n",
              "</div>\n",
              "      <button class=\"colab-df-convert\" onclick=\"convertToInteractive('df-9e078187-989b-40cc-9768-c4640ad2cd32')\"\n",
              "              title=\"Convert this dataframe to an interactive table.\"\n",
              "              style=\"display:none;\">\n",
              "        \n",
              "  <svg xmlns=\"http://www.w3.org/2000/svg\" height=\"24px\"viewBox=\"0 0 24 24\"\n",
              "       width=\"24px\">\n",
              "    <path d=\"M0 0h24v24H0V0z\" fill=\"none\"/>\n",
              "    <path d=\"M18.56 5.44l.94 2.06.94-2.06 2.06-.94-2.06-.94-.94-2.06-.94 2.06-2.06.94zm-11 1L8.5 8.5l.94-2.06 2.06-.94-2.06-.94L8.5 2.5l-.94 2.06-2.06.94zm10 10l.94 2.06.94-2.06 2.06-.94-2.06-.94-.94-2.06-.94 2.06-2.06.94z\"/><path d=\"M17.41 7.96l-1.37-1.37c-.4-.4-.92-.59-1.43-.59-.52 0-1.04.2-1.43.59L10.3 9.45l-7.72 7.72c-.78.78-.78 2.05 0 2.83L4 21.41c.39.39.9.59 1.41.59.51 0 1.02-.2 1.41-.59l7.78-7.78 2.81-2.81c.8-.78.8-2.07 0-2.86zM5.41 20L4 18.59l7.72-7.72 1.47 1.35L5.41 20z\"/>\n",
              "  </svg>\n",
              "      </button>\n",
              "      \n",
              "  <style>\n",
              "    .colab-df-container {\n",
              "      display:flex;\n",
              "      flex-wrap:wrap;\n",
              "      gap: 12px;\n",
              "    }\n",
              "\n",
              "    .colab-df-convert {\n",
              "      background-color: #E8F0FE;\n",
              "      border: none;\n",
              "      border-radius: 50%;\n",
              "      cursor: pointer;\n",
              "      display: none;\n",
              "      fill: #1967D2;\n",
              "      height: 32px;\n",
              "      padding: 0 0 0 0;\n",
              "      width: 32px;\n",
              "    }\n",
              "\n",
              "    .colab-df-convert:hover {\n",
              "      background-color: #E2EBFA;\n",
              "      box-shadow: 0px 1px 2px rgba(60, 64, 67, 0.3), 0px 1px 3px 1px rgba(60, 64, 67, 0.15);\n",
              "      fill: #174EA6;\n",
              "    }\n",
              "\n",
              "    [theme=dark] .colab-df-convert {\n",
              "      background-color: #3B4455;\n",
              "      fill: #D2E3FC;\n",
              "    }\n",
              "\n",
              "    [theme=dark] .colab-df-convert:hover {\n",
              "      background-color: #434B5C;\n",
              "      box-shadow: 0px 1px 3px 1px rgba(0, 0, 0, 0.15);\n",
              "      filter: drop-shadow(0px 1px 2px rgba(0, 0, 0, 0.3));\n",
              "      fill: #FFFFFF;\n",
              "    }\n",
              "  </style>\n",
              "\n",
              "      <script>\n",
              "        const buttonEl =\n",
              "          document.querySelector('#df-9e078187-989b-40cc-9768-c4640ad2cd32 button.colab-df-convert');\n",
              "        buttonEl.style.display =\n",
              "          google.colab.kernel.accessAllowed ? 'block' : 'none';\n",
              "\n",
              "        async function convertToInteractive(key) {\n",
              "          const element = document.querySelector('#df-9e078187-989b-40cc-9768-c4640ad2cd32');\n",
              "          const dataTable =\n",
              "            await google.colab.kernel.invokeFunction('convertToInteractive',\n",
              "                                                     [key], {});\n",
              "          if (!dataTable) return;\n",
              "\n",
              "          const docLinkHtml = 'Like what you see? Visit the ' +\n",
              "            '<a target=\"_blank\" href=https://colab.research.google.com/notebooks/data_table.ipynb>data table notebook</a>'\n",
              "            + ' to learn more about interactive tables.';\n",
              "          element.innerHTML = '';\n",
              "          dataTable['output_type'] = 'display_data';\n",
              "          await google.colab.output.renderOutput(dataTable, element);\n",
              "          const docLink = document.createElement('div');\n",
              "          docLink.innerHTML = docLinkHtml;\n",
              "          element.appendChild(docLink);\n",
              "        }\n",
              "      </script>\n",
              "    </div>\n",
              "  </div>\n",
              "  "
            ]
          },
          "metadata": {},
          "execution_count": 17
        }
      ],
      "source": [
        "df.head(10)"
      ]
    },
    {
      "cell_type": "code",
      "execution_count": 18,
      "id": "7a25892f",
      "metadata": {
        "scrolled": true,
        "id": "7a25892f",
        "outputId": "d89fc6e2-c6d0-47bc-a662-e50da7298946",
        "colab": {
          "base_uri": "https://localhost:8080/",
          "height": 346
        }
      },
      "outputs": [
        {
          "output_type": "execute_result",
          "data": {
            "text/plain": [
              "                                  \n",
              "3         Newspaper - Haddas Ertra\n",
              "4      Newspapers - Eritrea Haddas\n",
              "5      Newspapers - Eritrea Haddas\n",
              "6   Newspapers - Eritrea Alhaditha\n",
              "7   Newspapers - Eritrea Alhaditha\n",
              "8     Newspapers - Eritrea Profile\n",
              "9     Newspapers - Eritrea Profile\n",
              "10                    Stay With Us\n",
              "11                    Recent Posts\n",
              "12                    Recent Posts"
            ],
            "text/html": [
              "\n",
              "  <div id=\"df-efd0fcd8-04c2-4b82-ab6d-9c91f259b391\">\n",
              "    <div class=\"colab-df-container\">\n",
              "      <div>\n",
              "<style scoped>\n",
              "    .dataframe tbody tr th:only-of-type {\n",
              "        vertical-align: middle;\n",
              "    }\n",
              "\n",
              "    .dataframe tbody tr th {\n",
              "        vertical-align: top;\n",
              "    }\n",
              "\n",
              "    .dataframe thead th {\n",
              "        text-align: right;\n",
              "    }\n",
              "</style>\n",
              "<table border=\"1\" class=\"dataframe\">\n",
              "  <thead>\n",
              "    <tr style=\"text-align: right;\">\n",
              "      <th></th>\n",
              "      <th></th>\n",
              "    </tr>\n",
              "  </thead>\n",
              "  <tbody>\n",
              "    <tr>\n",
              "      <th>3</th>\n",
              "      <td>Newspaper - Haddas Ertra</td>\n",
              "    </tr>\n",
              "    <tr>\n",
              "      <th>4</th>\n",
              "      <td>Newspapers - Eritrea Haddas</td>\n",
              "    </tr>\n",
              "    <tr>\n",
              "      <th>5</th>\n",
              "      <td>Newspapers - Eritrea Haddas</td>\n",
              "    </tr>\n",
              "    <tr>\n",
              "      <th>6</th>\n",
              "      <td>Newspapers - Eritrea Alhaditha</td>\n",
              "    </tr>\n",
              "    <tr>\n",
              "      <th>7</th>\n",
              "      <td>Newspapers - Eritrea Alhaditha</td>\n",
              "    </tr>\n",
              "    <tr>\n",
              "      <th>8</th>\n",
              "      <td>Newspapers - Eritrea Profile</td>\n",
              "    </tr>\n",
              "    <tr>\n",
              "      <th>9</th>\n",
              "      <td>Newspapers - Eritrea Profile</td>\n",
              "    </tr>\n",
              "    <tr>\n",
              "      <th>10</th>\n",
              "      <td>Stay With Us</td>\n",
              "    </tr>\n",
              "    <tr>\n",
              "      <th>11</th>\n",
              "      <td>Recent Posts</td>\n",
              "    </tr>\n",
              "    <tr>\n",
              "      <th>12</th>\n",
              "      <td>Recent Posts</td>\n",
              "    </tr>\n",
              "  </tbody>\n",
              "</table>\n",
              "</div>\n",
              "      <button class=\"colab-df-convert\" onclick=\"convertToInteractive('df-efd0fcd8-04c2-4b82-ab6d-9c91f259b391')\"\n",
              "              title=\"Convert this dataframe to an interactive table.\"\n",
              "              style=\"display:none;\">\n",
              "        \n",
              "  <svg xmlns=\"http://www.w3.org/2000/svg\" height=\"24px\"viewBox=\"0 0 24 24\"\n",
              "       width=\"24px\">\n",
              "    <path d=\"M0 0h24v24H0V0z\" fill=\"none\"/>\n",
              "    <path d=\"M18.56 5.44l.94 2.06.94-2.06 2.06-.94-2.06-.94-.94-2.06-.94 2.06-2.06.94zm-11 1L8.5 8.5l.94-2.06 2.06-.94-2.06-.94L8.5 2.5l-.94 2.06-2.06.94zm10 10l.94 2.06.94-2.06 2.06-.94-2.06-.94-.94-2.06-.94 2.06-2.06.94z\"/><path d=\"M17.41 7.96l-1.37-1.37c-.4-.4-.92-.59-1.43-.59-.52 0-1.04.2-1.43.59L10.3 9.45l-7.72 7.72c-.78.78-.78 2.05 0 2.83L4 21.41c.39.39.9.59 1.41.59.51 0 1.02-.2 1.41-.59l7.78-7.78 2.81-2.81c.8-.78.8-2.07 0-2.86zM5.41 20L4 18.59l7.72-7.72 1.47 1.35L5.41 20z\"/>\n",
              "  </svg>\n",
              "      </button>\n",
              "      \n",
              "  <style>\n",
              "    .colab-df-container {\n",
              "      display:flex;\n",
              "      flex-wrap:wrap;\n",
              "      gap: 12px;\n",
              "    }\n",
              "\n",
              "    .colab-df-convert {\n",
              "      background-color: #E8F0FE;\n",
              "      border: none;\n",
              "      border-radius: 50%;\n",
              "      cursor: pointer;\n",
              "      display: none;\n",
              "      fill: #1967D2;\n",
              "      height: 32px;\n",
              "      padding: 0 0 0 0;\n",
              "      width: 32px;\n",
              "    }\n",
              "\n",
              "    .colab-df-convert:hover {\n",
              "      background-color: #E2EBFA;\n",
              "      box-shadow: 0px 1px 2px rgba(60, 64, 67, 0.3), 0px 1px 3px 1px rgba(60, 64, 67, 0.15);\n",
              "      fill: #174EA6;\n",
              "    }\n",
              "\n",
              "    [theme=dark] .colab-df-convert {\n",
              "      background-color: #3B4455;\n",
              "      fill: #D2E3FC;\n",
              "    }\n",
              "\n",
              "    [theme=dark] .colab-df-convert:hover {\n",
              "      background-color: #434B5C;\n",
              "      box-shadow: 0px 1px 3px 1px rgba(0, 0, 0, 0.15);\n",
              "      filter: drop-shadow(0px 1px 2px rgba(0, 0, 0, 0.3));\n",
              "      fill: #FFFFFF;\n",
              "    }\n",
              "  </style>\n",
              "\n",
              "      <script>\n",
              "        const buttonEl =\n",
              "          document.querySelector('#df-efd0fcd8-04c2-4b82-ab6d-9c91f259b391 button.colab-df-convert');\n",
              "        buttonEl.style.display =\n",
              "          google.colab.kernel.accessAllowed ? 'block' : 'none';\n",
              "\n",
              "        async function convertToInteractive(key) {\n",
              "          const element = document.querySelector('#df-efd0fcd8-04c2-4b82-ab6d-9c91f259b391');\n",
              "          const dataTable =\n",
              "            await google.colab.kernel.invokeFunction('convertToInteractive',\n",
              "                                                     [key], {});\n",
              "          if (!dataTable) return;\n",
              "\n",
              "          const docLinkHtml = 'Like what you see? Visit the ' +\n",
              "            '<a target=\"_blank\" href=https://colab.research.google.com/notebooks/data_table.ipynb>data table notebook</a>'\n",
              "            + ' to learn more about interactive tables.';\n",
              "          element.innerHTML = '';\n",
              "          dataTable['output_type'] = 'display_data';\n",
              "          await google.colab.output.renderOutput(dataTable, element);\n",
              "          const docLink = document.createElement('div');\n",
              "          docLink.innerHTML = docLinkHtml;\n",
              "          element.appendChild(docLink);\n",
              "        }\n",
              "      </script>\n",
              "    </div>\n",
              "  </div>\n",
              "  "
            ]
          },
          "metadata": {},
          "execution_count": 18
        }
      ],
      "source": [
        "df.tail(10)"
      ]
    },
    {
      "cell_type": "code",
      "execution_count": 19,
      "id": "e9d0ceb5",
      "metadata": {
        "id": "e9d0ceb5",
        "outputId": "87fec0c0-160d-45b6-d1be-06bd1690d7c2",
        "colab": {
          "base_uri": "https://localhost:8080/"
        }
      },
      "outputs": [
        {
          "output_type": "stream",
          "name": "stdout",
          "text": [
            "<class 'pandas.core.frame.DataFrame'>\n",
            "RangeIndex: 13 entries, 0 to 12\n",
            "Data columns (total 1 columns):\n",
            " #   Column  Non-Null Count  Dtype \n",
            "---  ------  --------------  ----- \n",
            " 0           13 non-null     object\n",
            "dtypes: object(1)\n",
            "memory usage: 232.0+ bytes\n"
          ]
        }
      ],
      "source": [
        "df.info()"
      ]
    },
    {
      "cell_type": "code",
      "execution_count": 20,
      "id": "cc2941c1",
      "metadata": {
        "id": "cc2941c1",
        "outputId": "43a3a7fc-5abf-4859-96ae-2d5e505c093a",
        "colab": {
          "base_uri": "https://localhost:8080/",
          "height": 157
        }
      },
      "outputs": [
        {
          "output_type": "execute_result",
          "data": {
            "text/plain": [
              "                    \n",
              "count             13\n",
              "unique             6\n",
              "top     Recent Posts\n",
              "freq               4"
            ],
            "text/html": [
              "\n",
              "  <div id=\"df-fefa8bea-1fd2-42dd-ae11-c742fd337fab\">\n",
              "    <div class=\"colab-df-container\">\n",
              "      <div>\n",
              "<style scoped>\n",
              "    .dataframe tbody tr th:only-of-type {\n",
              "        vertical-align: middle;\n",
              "    }\n",
              "\n",
              "    .dataframe tbody tr th {\n",
              "        vertical-align: top;\n",
              "    }\n",
              "\n",
              "    .dataframe thead th {\n",
              "        text-align: right;\n",
              "    }\n",
              "</style>\n",
              "<table border=\"1\" class=\"dataframe\">\n",
              "  <thead>\n",
              "    <tr style=\"text-align: right;\">\n",
              "      <th></th>\n",
              "      <th></th>\n",
              "    </tr>\n",
              "  </thead>\n",
              "  <tbody>\n",
              "    <tr>\n",
              "      <th>count</th>\n",
              "      <td>13</td>\n",
              "    </tr>\n",
              "    <tr>\n",
              "      <th>unique</th>\n",
              "      <td>6</td>\n",
              "    </tr>\n",
              "    <tr>\n",
              "      <th>top</th>\n",
              "      <td>Recent Posts</td>\n",
              "    </tr>\n",
              "    <tr>\n",
              "      <th>freq</th>\n",
              "      <td>4</td>\n",
              "    </tr>\n",
              "  </tbody>\n",
              "</table>\n",
              "</div>\n",
              "      <button class=\"colab-df-convert\" onclick=\"convertToInteractive('df-fefa8bea-1fd2-42dd-ae11-c742fd337fab')\"\n",
              "              title=\"Convert this dataframe to an interactive table.\"\n",
              "              style=\"display:none;\">\n",
              "        \n",
              "  <svg xmlns=\"http://www.w3.org/2000/svg\" height=\"24px\"viewBox=\"0 0 24 24\"\n",
              "       width=\"24px\">\n",
              "    <path d=\"M0 0h24v24H0V0z\" fill=\"none\"/>\n",
              "    <path d=\"M18.56 5.44l.94 2.06.94-2.06 2.06-.94-2.06-.94-.94-2.06-.94 2.06-2.06.94zm-11 1L8.5 8.5l.94-2.06 2.06-.94-2.06-.94L8.5 2.5l-.94 2.06-2.06.94zm10 10l.94 2.06.94-2.06 2.06-.94-2.06-.94-.94-2.06-.94 2.06-2.06.94z\"/><path d=\"M17.41 7.96l-1.37-1.37c-.4-.4-.92-.59-1.43-.59-.52 0-1.04.2-1.43.59L10.3 9.45l-7.72 7.72c-.78.78-.78 2.05 0 2.83L4 21.41c.39.39.9.59 1.41.59.51 0 1.02-.2 1.41-.59l7.78-7.78 2.81-2.81c.8-.78.8-2.07 0-2.86zM5.41 20L4 18.59l7.72-7.72 1.47 1.35L5.41 20z\"/>\n",
              "  </svg>\n",
              "      </button>\n",
              "      \n",
              "  <style>\n",
              "    .colab-df-container {\n",
              "      display:flex;\n",
              "      flex-wrap:wrap;\n",
              "      gap: 12px;\n",
              "    }\n",
              "\n",
              "    .colab-df-convert {\n",
              "      background-color: #E8F0FE;\n",
              "      border: none;\n",
              "      border-radius: 50%;\n",
              "      cursor: pointer;\n",
              "      display: none;\n",
              "      fill: #1967D2;\n",
              "      height: 32px;\n",
              "      padding: 0 0 0 0;\n",
              "      width: 32px;\n",
              "    }\n",
              "\n",
              "    .colab-df-convert:hover {\n",
              "      background-color: #E2EBFA;\n",
              "      box-shadow: 0px 1px 2px rgba(60, 64, 67, 0.3), 0px 1px 3px 1px rgba(60, 64, 67, 0.15);\n",
              "      fill: #174EA6;\n",
              "    }\n",
              "\n",
              "    [theme=dark] .colab-df-convert {\n",
              "      background-color: #3B4455;\n",
              "      fill: #D2E3FC;\n",
              "    }\n",
              "\n",
              "    [theme=dark] .colab-df-convert:hover {\n",
              "      background-color: #434B5C;\n",
              "      box-shadow: 0px 1px 3px 1px rgba(0, 0, 0, 0.15);\n",
              "      filter: drop-shadow(0px 1px 2px rgba(0, 0, 0, 0.3));\n",
              "      fill: #FFFFFF;\n",
              "    }\n",
              "  </style>\n",
              "\n",
              "      <script>\n",
              "        const buttonEl =\n",
              "          document.querySelector('#df-fefa8bea-1fd2-42dd-ae11-c742fd337fab button.colab-df-convert');\n",
              "        buttonEl.style.display =\n",
              "          google.colab.kernel.accessAllowed ? 'block' : 'none';\n",
              "\n",
              "        async function convertToInteractive(key) {\n",
              "          const element = document.querySelector('#df-fefa8bea-1fd2-42dd-ae11-c742fd337fab');\n",
              "          const dataTable =\n",
              "            await google.colab.kernel.invokeFunction('convertToInteractive',\n",
              "                                                     [key], {});\n",
              "          if (!dataTable) return;\n",
              "\n",
              "          const docLinkHtml = 'Like what you see? Visit the ' +\n",
              "            '<a target=\"_blank\" href=https://colab.research.google.com/notebooks/data_table.ipynb>data table notebook</a>'\n",
              "            + ' to learn more about interactive tables.';\n",
              "          element.innerHTML = '';\n",
              "          dataTable['output_type'] = 'display_data';\n",
              "          await google.colab.output.renderOutput(dataTable, element);\n",
              "          const docLink = document.createElement('div');\n",
              "          docLink.innerHTML = docLinkHtml;\n",
              "          element.appendChild(docLink);\n",
              "        }\n",
              "      </script>\n",
              "    </div>\n",
              "  </div>\n",
              "  "
            ]
          },
          "metadata": {},
          "execution_count": 20
        }
      ],
      "source": [
        "df.describe()"
      ]
    },
    {
      "cell_type": "markdown",
      "id": "f218233e",
      "metadata": {
        "id": "f218233e"
      },
      "source": [
        "# To be continued according to the need"
      ]
    },
    {
      "cell_type": "code",
      "execution_count": 21,
      "id": "230fbb55",
      "metadata": {
        "id": "230fbb55"
      },
      "outputs": [],
      "source": [
        "import pandas as pd\n",
        "import requests\n",
        "from bs4 import BeautifulSoup"
      ]
    },
    {
      "cell_type": "markdown",
      "id": "1671dcc7",
      "metadata": {
        "id": "1671dcc7"
      },
      "source": []
    },
    {
      "cell_type": "code",
      "source": [
        "\n",
        "# Identify the target website's address, i.e., URL\n",
        "url = 'https://shabait.com/category/newspapers/haddas-ertra-news/'\n",
        "# Add an user agent to aviod 403 ERROR\n",
        "user_agent = \"Mozilla/5.0 (Windows NT 10.0; WOW64) AppleWebKit/537.36 (KHTML, like Gecko) Chrome/79.0.3945.88 Safari/537.37\"\n",
        "# Create a response object to get the web page's HTML content\n",
        "get_url = requests.get(url, headers={'User-Agent': user_agent})\n",
        "# Create a beautiful soup object to parse HTML text with the help of the html.parser\n",
        "soup = BeautifulSoup(get_url.text, 'html.parser')\n",
        "# Check website's response\n",
        "print(get_url)"
      ],
      "metadata": {
        "id": "pF4AUJYHJ65O",
        "outputId": "6f77ce66-58b1-4fb1-f6c3-2bf0b4cba14f",
        "colab": {
          "base_uri": "https://localhost:8080/"
        }
      },
      "id": "pF4AUJYHJ65O",
      "execution_count": 22,
      "outputs": [
        {
          "output_type": "stream",
          "name": "stdout",
          "text": [
            "<Response [200]>\n"
          ]
        }
      ]
    },
    {
      "cell_type": "code",
      "source": [
        "\n",
        "# Use prettify() method to make the HTML be nicely formatted\n",
        "# This line of code is optional, which is used to take a look at HTML\n",
        "# print(soup.prettify()) \n",
        "     "
      ],
      "metadata": {
        "id": "Xx9fwdRxKSyu"
      },
      "id": "Xx9fwdRxKSyu",
      "execution_count": 23,
      "outputs": []
    },
    {
      "cell_type": "code",
      "source": [
        "# Creat a list to store data\n",
        "article_list = []\n",
        "# Find all the topics\n",
        "topics = soup.find_all('div',{'<a href=\"https://shabait.com/category/newspapers/\">Newspapers</a>'})\n",
        "# Calculate the number of topics\n",
        "topic_count = 0\n",
        "# Calculate the number of pdf links\n",
        "pdf_count = 0\n",
        "\n",
        "for item in topics:\n",
        "  topic_count += 1\n",
        "  # Fetch title of the article\n",
        "  title = item.find('h2').find('a').text\n",
        "  # Fetch the pdf link\n",
        "  try:\n",
        "    download_link = item.find('div',{'/html/body'}).find('a').get('href')   \n",
        "  except:\n",
        "    pass \n",
        "  # Get effective link\n",
        "  if download_link.endswith('pdf') and download_link.startswith('http') :  \n",
        "    ready_to_download = 'Y'  \n",
        "    pdf_count += 1\n",
        "  else:\n",
        "    ready_to_download = 'N'\n",
        "  # Creat a dict to stor article info\n",
        "  article = {'title': title,\n",
        "             'ready_to_download': ready_to_download,\n",
        "             'pdf_link': download_link}\n",
        "  \n",
        "  article_list.append(article)\n",
        "print(f'There are a total of {topic_count} posted on the website, {pdf_count} of which have effective pdf link') "
      ],
      "metadata": {
        "id": "gYx6WeIZKfPG",
        "outputId": "918dd0c8-fbd7-4c22-9209-2693d3a5f4d4",
        "colab": {
          "base_uri": "https://localhost:8080/"
        }
      },
      "id": "gYx6WeIZKfPG",
      "execution_count": 30,
      "outputs": [
        {
          "output_type": "stream",
          "name": "stdout",
          "text": [
            "There are a total of 0 posted on the website, 0 of which have effective pdf link\n"
          ]
        }
      ]
    }
  ],
  "metadata": {
    "kernelspec": {
      "display_name": "Python 3 (ipykernel)",
      "language": "python",
      "name": "python3"
    },
    "language_info": {
      "codemirror_mode": {
        "name": "ipython",
        "version": 3
      },
      "file_extension": ".py",
      "mimetype": "text/x-python",
      "name": "python",
      "nbconvert_exporter": "python",
      "pygments_lexer": "ipython3",
      "version": "3.9.7"
    },
    "vscode": {
      "interpreter": {
        "hash": "3ee21ed62f19d1cd1bff4fa7173a59e6ad481596d1bae72510cd990aa768afda"
      }
    },
    "colab": {
      "provenance": [],
      "include_colab_link": true
    }
  },
  "nbformat": 4,
  "nbformat_minor": 5
}